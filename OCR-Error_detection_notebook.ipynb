{
 "cells": [
  {
   "cell_type": "markdown",
   "metadata": {},
   "source": [
    "# OCR Error Detection - Digital Humanities\n",
    "#### Roy Levy - 313577611 & Nitzan Bar -  302221338\n"
   ]
  },
  {
   "cell_type": "markdown",
   "metadata": {},
   "source": [
    "### Intro & Motivation\n",
    "#### Intro\n",
    "---\n",
    "**Optical character recognition or optical character reader (OCR)** is the electronic or mechanical conversion of images of typed, handwritten or printed text into machine-encoded text.<br>In this notebook we are going to focus on printed documents which have been converted digitally to DOC files.<br><br>Sometimes the process of converting a document to a digital format isn't 100 percent correct. There are a-lot of factors that can damage the output of the convertion, let's look at a few for example:\n",
    "* How strong the OCR model is, how well it is trained on the given language.\n",
    "* How well the documents are presented (some documents can be very old, or blurry).\n",
    "* What is the structure of the document (text structure in the file is very important for OCR model to recognize the text)."
   ]
  },
  {
   "cell_type": "markdown",
   "metadata": {},
   "source": [
    "#### Motivation\n",
    "---\n",
    "In this notebook we are given a dataset of laws and legislations in the state of Israel.<br>Our goal is to create a model that can detect errors resulted by OCR in the given documents.<br>\n",
    "We are given laws in a DOC format which have been through the process of OCR, we need to detect the erros in these files and mark each error with a special tag.<br>The overall motivation is to convert all the laws in Israel to a digital form. In order to do so, there is a need for OCR.<br>As we mentioned before, OCR isn't 100 percent correct all of the time, so it is important to create a way for us to detect the error resulted after OCR convertion.<br><br>"
   ]
  },
  {
   "cell_type": "markdown",
   "metadata": {},
   "source": [
    "### Preprocessing & Data Exploration\n",
    "---"
   ]
  },
  {
   "cell_type": "markdown",
   "metadata": {},
   "source": [
    "In this section we are going to do the following:\n",
    "1. Explain the data that was given to us and read it.\n",
    "2. Do some preprocessing on the data we have read.\n",
    "3. Perform data exploration that will further our knowledge towards completing our goal."
   ]
  },
  {
   "cell_type": "code",
   "execution_count": 81,
   "metadata": {
    "scrolled": true
   },
   "outputs": [],
   "source": [
    "# importing essentials\n",
    "import re\n",
    "import os\n",
    "from datetime import datetime\n",
    "import numpy as np\n",
    "import pandas as pd\n",
    "import matplotlib.pyplot as plt\n",
    "import seaborn as sns\n",
    "from pickle import load\n",
    "from pickle import dump\n",
    "from IPython.display import display\n",
    "from tqdm import tqdm\n",
    "\n",
    "import random\n",
    "from random import normalvariate\n",
    "# setting a seed in order to get the same results always\n",
    "random.seed(42)\n",
    "\n",
    "from urllib.error import HTTPError\n",
    "from urllib.request import urlopen\n",
    "\n",
    "from collections import Counter\n",
    "from bidi.algorithm import get_display\n",
    "from bs4 import BeautifulSoup\n",
    "import docx2txt\n",
    "\n",
    "import nltk\n",
    "from nltk.util import ngrams\n",
    "\n",
    "from sklearn.feature_extraction.text import CountVectorizer, TfidfVectorizer\n",
    "from sklearn.model_selection import GridSearchCV\n",
    "from sklearn.tree import DecisionTreeClassifier\n",
    "from sklearn.neural_network import MLPClassifier\n",
    "from sklearn.ensemble import RandomForestClassifier\n",
    "from sklearn.model_selection import cross_val_score\n",
    "from sklearn.metrics import accuracy_score, make_scorer, confusion_matrix, precision_score, recall_score, classification_report\n",
    "from sklearn.utils import class_weight\n",
    "\n",
    "sns.set_theme(style=\"whitegrid\")\n",
    "\n",
    "from keras.preprocessing.text import Tokenizer\n",
    "from keras.preprocessing.sequence import pad_sequences\n",
    "from keras.models import Sequential\n",
    "from keras.layers import Dense, Dropout, LSTM, Embedding, LeakyReLU, TimeDistributed, Bidirectional, SimpleRNN\n",
    "from keras.models import load_model\n",
    "from keras.callbacks import ReduceLROnPlateau, EarlyStopping, ModelCheckpoint\n",
    "from keras.optimizers import Adam, Nadam\n",
    "from keras.losses import BinaryCrossentropy\n",
    "import keras\n",
    "from keras import backend as K\n",
    "import tensorflow as tf"
   ]
  },
  {
   "cell_type": "markdown",
   "metadata": {},
   "source": [
    "#### Data Explanation\n",
    "---\n",
    "In order to create the train and test set for the models we need first to examine the data and explain what are the main files we are given.<br>\n",
    "\n",
    "* **LawRepoWiki** - contains Isreal laws in an **AKN** xml format.<br>\n",
    "* **law_dictionary.xml** - contains mapping from *law_id* to *path in akn folder*.<br>\n",
    "* **PDF_DOC** - containing the laws that have been converted by OCR to DOC format, and the corresponding PDF of the laws.<br>\n",
    "* **DOCX** - Our convertion from DOC file format to DOCX file format of the laws (for easy manipulation and reading)."
   ]
  },
  {
   "cell_type": "markdown",
   "metadata": {},
   "source": [
    "#### Preprocessing\n",
    "---"
   ]
  },
  {
   "cell_type": "markdown",
   "metadata": {},
   "source": [
    "The main thing to do at the moment is to extract all the text from the akn files.<br>\n",
    "In order to do so we have to supply some mapping between each law id to the path in the akn folder."
   ]
  },
  {
   "cell_type": "code",
   "execution_count": 2,
   "metadata": {},
   "outputs": [],
   "source": [
    "# path to mapping file from law_id to law in akn-xml format\n",
    "laws_dictionary_path = \"./LawRepoWiki/law_dictionary.xml\""
   ]
  },
  {
   "cell_type": "code",
   "execution_count": 3,
   "metadata": {},
   "outputs": [],
   "source": [
    "def get_soup(file_path):\n",
    "    \"\"\"\n",
    "    Creates a BeautifulSoup from a path to a given file.\n",
    "    \n",
    "    Args:\n",
    "        file_path (String): path to the file.\n",
    "        \n",
    "    Returns:\n",
    "        BeautifulSoup: BeautifulSoup Object of the file. \n",
    "    \"\"\"\n",
    "    with open(file_path, \"r\", encoding=\"utf8\") as file:\n",
    "        # Read each line in the file, readlines() returns a list of lines\n",
    "        content = file.readlines()\n",
    "        # Combine the lines in the list into a string\n",
    "        content = \"\".join(content)\n",
    "        soup = BeautifulSoup(content, \"lxml\")\n",
    "        return soup"
   ]
  },
  {
   "cell_type": "code",
   "execution_count": 4,
   "metadata": {},
   "outputs": [],
   "source": [
    "def get_laws_id_to_path_akn(law_dict_path):\n",
    "    \"\"\"\n",
    "    Creating a dictionary which each entry is a mapping between\n",
    "    a law's id to the xml file in akn format in the dataset.\n",
    "\n",
    "    Args:\n",
    "        law_dict_path (String): path to xml file with mapping from law_id to akn-xml.\n",
    "    \"\"\"\n",
    "    soup = get_soup(law_dict_path)\n",
    "    if soup:\n",
    "        soup = soup.find(\"root\")\n",
    "        law_id_to_path = dict()\n",
    "        laws_tags = soup.find_all(\"law\")\n",
    "    \n",
    "        for law_tag in laws_tags:\n",
    "            law_id = law_tag.find(\"lawid\").text\n",
    "            law_path = law_tag.find(\"lawpath\").text\n",
    "            law_path = law_path.replace(\"\\\\\", \"/\")\n",
    "            law_path = f'{law_path}/he@/main.xml'\n",
    "            law_id_to_path[law_id] = law_path\n",
    "\n",
    "        return law_id_to_path"
   ]
  },
  {
   "cell_type": "code",
   "execution_count": 5,
   "metadata": {
    "scrolled": true
   },
   "outputs": [],
   "source": [
    "law_id_to_path = get_laws_id_to_path_akn(laws_dictionary_path)"
   ]
  },
  {
   "cell_type": "markdown",
   "metadata": {},
   "source": [
    "Now we can proceed and extract the text from the files."
   ]
  },
  {
   "cell_type": "code",
   "execution_count": 6,
   "metadata": {},
   "outputs": [],
   "source": [
    "def get_law_akn_text(law_akn_path):\n",
    "    \"\"\"\n",
    "    Returns the text in an AKN-XML file.\n",
    "    \"\"\"\n",
    "    soup = get_soup(law_akn_path)\n",
    "    text = soup.find(\"body\").text\n",
    "    return text\n",
    "    \n",
    "def get_law_docx_text(law_docx_path):\n",
    "    \"\"\"\n",
    "    Returns the text in a DOCX file.\n",
    "    \"\"\"\n",
    "    text = docx2txt.process(law_docx_path)\n",
    "    return text\n",
    "\n",
    "def get_laws_akn_df(akn_path, law_id_to_path):\n",
    "    \"\"\"\n",
    "    Returns a dataframe with two columns:\n",
    "        1. law_id - id of each law\n",
    "        2. law_akn_text - the text of the akn xml law file with the corresponding law_id\n",
    "\n",
    "    Args:\n",
    "        akn_path (String): path to main akn folder.\n",
    "        law_id_to_path (dict): dictionary that maps between law_id to akn path.\n",
    "    \"\"\"\n",
    "    law_texts = []\n",
    "    \n",
    "    for (law_id, law_path) in tqdm(law_id_to_path.items(), desc=\"Getting Laws\"):\n",
    "        law_full_path = f'{akn_path}/{law_path}'\n",
    "        law_text = get_law_akn_text(law_full_path)\n",
    "        law_texts.append({\n",
    "            \"law_id\": law_id,\n",
    "            \"law_akn_text\": law_text\n",
    "        })\n",
    "    laws_akn_df = pd.DataFrame(law_texts, columns=[\"law_id\", \"law_akn_text\"])\n",
    "    return laws_akn_df"
   ]
  },
  {
   "cell_type": "code",
   "execution_count": 7,
   "metadata": {},
   "outputs": [
    {
     "name": "stderr",
     "output_type": "stream",
     "text": [
      "Getting Laws: 100%|██████████| 1942/1942 [00:47<00:00, 40.82it/s] \n"
     ]
    }
   ],
   "source": [
    "# path to docx folder\n",
    "docx_path = \"./DOCX\"\n",
    "# path to main akn folder\n",
    "akn_path = \"./LawRepoWiki\"\n",
    "# getting text for each law in the akn format\n",
    "laws_akn_text = get_laws_akn_df(akn_path, law_id_to_path)"
   ]
  },
  {
   "cell_type": "code",
   "execution_count": 8,
   "metadata": {},
   "outputs": [
    {
     "name": "stdout",
     "output_type": "stream",
     "text": [
      "law_akn_text dataframe shape is (1942, 2)\n"
     ]
    }
   ],
   "source": [
    "print(f\"law_akn_text dataframe shape is {laws_akn_text.shape}\")"
   ]
  },
  {
   "cell_type": "markdown",
   "metadata": {},
   "source": [
    "As we can from the shape above, there are only 1942 laws in akn format.<br>\n",
    "This is a quite small amount, if we wish that our models will truly learn we have to supply them with more data.<br>\n",
    "In order to perform **data augmentation** we will use the **open laws book** in **wiki text**.<br>\n",
    "We will scrape 2000 unique laws randomly and their content and later on append them to the laws we extracted in the akn format.<br><br>\n",
    "**Note**: There maybe duplicated laws but we will consider them anyway. That is because the format of the akn is different from the one in the open laws book, so it is still add extra layer of complexity to our models."
   ]
  },
  {
   "cell_type": "code",
   "execution_count": 9,
   "metadata": {},
   "outputs": [],
   "source": [
    "def get_soup_url(url):\n",
    "    \"\"\"\n",
    "    Parameters:\n",
    "        url (String): Web-page url\n",
    "        \n",
    "    Returns: Web-page content as a BeautifulSoup object of url, None upon failure.\n",
    "    \"\"\"\n",
    "    try:\n",
    "        html = urlopen(url)\n",
    "    except Exception as e:\n",
    "        return None\n",
    "    try:\n",
    "        return BeautifulSoup(html.read(), \"html.parser\")\n",
    "    except AttributeError as e:\n",
    "        return None"
   ]
  },
  {
   "cell_type": "code",
   "execution_count": 10,
   "metadata": {},
   "outputs": [],
   "source": [
    "def get_random_law_text(laws_tags):\n",
    "    \"\"\"\n",
    "    Gets a law name and content randomly from a list of html tags containing the laws\n",
    "    \n",
    "    Args:\n",
    "        law_tags (list(BeautifulSoup)): a list of html tags containing the laws.\n",
    "        \n",
    "    Returns:\n",
    "        1. String - the law's name.\n",
    "        2. String - the law's content (text).\n",
    "        3. list(BeautifulSoup) - remaining tags we can extract exluding the one we've extracted at the moment.\n",
    "    \n",
    "    \"\"\"\n",
    "    base_url = \"https://he.wikisource.org\"\n",
    "    upper_value = len(laws_tags) - 1\n",
    "    r = random.randint(0, upper_value)\n",
    "    curr_tag = laws_tags.pop(r)\n",
    "    try:\n",
    "        law_name = curr_tag.text\n",
    "        law_url = base_url + curr_tag.a[\"href\"]\n",
    "        law_soup = get_soup_url(law_url)\n",
    "        law_content = law_soup.find(\"div\", id=\"law-content\")\n",
    "        law_text = law_content.text\n",
    "        return law_name, law_text, laws_tags\n",
    "    except:\n",
    "        return \"\", \"\", laws_tags\n",
    "\n",
    "def get_random_laws_df(laws_tags, amount=2000):\n",
    "    \"\"\"\n",
    "    Returns a dataframe contaning laws scraped from wiki-text\n",
    "    \n",
    "    Args:\n",
    "        law_tags (list(BeautifulSoup)): a list of html tags containing the laws.\n",
    "        amount (int, default=2000): amount of maximum laws that can appear in the dataframe.\n",
    "    \"\"\"\n",
    "    laws_names_and_texts = []\n",
    "    \n",
    "    while amount > 0:\n",
    "        print(amount)\n",
    "        \n",
    "        name, text, laws_tags = get_random_law_text(laws_tags)\n",
    "        laws_names_and_texts.append({\n",
    "            \"law_name\": name,\n",
    "            \"law_text\": text,\n",
    "        })\n",
    "        amount -= 1\n",
    "    return pd.DataFrame(laws_names_and_texts, columns=[\"law_name\", \"law_text\"])\n",
    "\n",
    "def laws_with_links_tags(soup):\n",
    "    return soup.find_all(\"dd\")\n",
    "\n",
    "def generate_random_open_book_laws_df(url):\n",
    "    \"\"\"\n",
    "    Scrapes the web and returns a dataframe containing laws names and text.\n",
    "    \"\"\"\n",
    "    soup = get_soup_url(url)\n",
    "    dds = laws_with_links_tags(soup)\n",
    "    return get_random_laws_df(dds)"
   ]
  },
  {
   "cell_type": "markdown",
   "metadata": {},
   "source": [
    "We've already ran this process and save the laws to an external file names ***extra_laws.csv***.<br>\n",
    "Let's read it..."
   ]
  },
  {
   "cell_type": "code",
   "execution_count": 11,
   "metadata": {},
   "outputs": [],
   "source": [
    "open_book_laws_path = \"https://he.wikisource.org/wiki/%D7%A1%D7%A4%D7%A8_%D7%94%D7%97%D7%95%D7%A7%D7%99%D7%9D_%D7%94%D7%A4%D7%AA%D7%95%D7%97\"\n",
    "# random_laws_df = generate_random_open_book_laws_df(open_book_laws_path)\n",
    "# random_laws_df = random_laws_df[random_laws_df[\"law_text\"] != \"\"].reset_index(drop=True)"
   ]
  },
  {
   "cell_type": "code",
   "execution_count": 12,
   "metadata": {
    "scrolled": true
   },
   "outputs": [
    {
     "data": {
      "text/html": [
       "<div>\n",
       "<style scoped>\n",
       "    .dataframe tbody tr th:only-of-type {\n",
       "        vertical-align: middle;\n",
       "    }\n",
       "\n",
       "    .dataframe tbody tr th {\n",
       "        vertical-align: top;\n",
       "    }\n",
       "\n",
       "    .dataframe thead th {\n",
       "        text-align: right;\n",
       "    }\n",
       "</style>\n",
       "<table border=\"1\" class=\"dataframe\">\n",
       "  <thead>\n",
       "    <tr style=\"text-align: right;\">\n",
       "      <th></th>\n",
       "      <th>law_name</th>\n",
       "      <th>law_text</th>\n",
       "    </tr>\n",
       "  </thead>\n",
       "  <tbody>\n",
       "    <tr>\n",
       "      <th>0</th>\n",
       "      <td>תקנות השקעות משותפות בנאמנות (סיווג קרנות לצור...</td>\n",
       "      <td>תקנות השקעות משותפות בנאמנות (סיווג קרנות לצור...</td>\n",
       "    </tr>\n",
       "    <tr>\n",
       "      <th>1</th>\n",
       "      <td>חוק הכניסה לישראל [תקנות] \\nתקנות הכניסה לישרא...</td>\n",
       "      <td>חוק הכניסה לישראל מתוך \\nחוק הכניסה לישראל, תש...</td>\n",
       "    </tr>\n",
       "    <tr>\n",
       "      <th>2</th>\n",
       "      <td>פקודת הרשויות המקומיות (מס עסקים)</td>\n",
       "      <td>פקודת הרשויות המקומיות (מס עסקים) מתוך \\nפקודת...</td>\n",
       "    </tr>\n",
       "    <tr>\n",
       "      <th>3</th>\n",
       "      <td>חוק קביעת גיל</td>\n",
       "      <td>חוק קביעת גיל מתוך \\nחוק קביעת גיל, תשכ״ד–1963...</td>\n",
       "    </tr>\n",
       "    <tr>\n",
       "      <th>4</th>\n",
       "      <td>תקנות לטיפול סביבתי בציוד חשמלי ואלקטרוני ובסו...</td>\n",
       "      <td>תקנות לטיפול סביבתי בציוד חשמלי ואלקטרוני ובסו...</td>\n",
       "    </tr>\n",
       "    <tr>\n",
       "      <th>...</th>\n",
       "      <td>...</td>\n",
       "      <td>...</td>\n",
       "    </tr>\n",
       "    <tr>\n",
       "      <th>1988</th>\n",
       "      <td>חוק המועצות האזוריות (בחירת ראש המועצה)</td>\n",
       "      <td>חוק המועצות האזוריות (בחירת ראש המועצה) מתוך \\...</td>\n",
       "    </tr>\n",
       "    <tr>\n",
       "      <th>1989</th>\n",
       "      <td>חוק כלי היריה [תקנות] \\nתקנות כלי הירייה (הכשר...</td>\n",
       "      <td>חוק כלי היריה מתוך \\nחוק כלי היריה, תש״ט–1949\\...</td>\n",
       "    </tr>\n",
       "    <tr>\n",
       "      <th>1990</th>\n",
       "      <td>תקנות החברות (הקלות בעסקאות עם בעלי ענין)</td>\n",
       "      <td>תקנות החברות (הקלות בעסקאות עם בעלי ענין) מתוך...</td>\n",
       "    </tr>\n",
       "    <tr>\n",
       "      <th>1991</th>\n",
       "      <td>פקודת התאונות ומחלות משלח-היד (הודעה) [תקנות] ...</td>\n",
       "      <td>פקודת התאונות ומחלות משלח-היד (הודעה) מתוך \\nפ...</td>\n",
       "    </tr>\n",
       "    <tr>\n",
       "      <th>1992</th>\n",
       "      <td>חוק מקרקעי ישראל</td>\n",
       "      <td>חוק מקרקעי ישראל מתוך \\nחוק מקרקעי ישראל, תש״ך...</td>\n",
       "    </tr>\n",
       "  </tbody>\n",
       "</table>\n",
       "<p>1993 rows × 2 columns</p>\n",
       "</div>"
      ],
      "text/plain": [
       "                                               law_name  \\\n",
       "0     תקנות השקעות משותפות בנאמנות (סיווג קרנות לצור...   \n",
       "1     חוק הכניסה לישראל [תקנות] \\nתקנות הכניסה לישרא...   \n",
       "2                     פקודת הרשויות המקומיות (מס עסקים)   \n",
       "3                                         חוק קביעת גיל   \n",
       "4     תקנות לטיפול סביבתי בציוד חשמלי ואלקטרוני ובסו...   \n",
       "...                                                 ...   \n",
       "1988            חוק המועצות האזוריות (בחירת ראש המועצה)   \n",
       "1989  חוק כלי היריה [תקנות] \\nתקנות כלי הירייה (הכשר...   \n",
       "1990          תקנות החברות (הקלות בעסקאות עם בעלי ענין)   \n",
       "1991  פקודת התאונות ומחלות משלח-היד (הודעה) [תקנות] ...   \n",
       "1992                                   חוק מקרקעי ישראל   \n",
       "\n",
       "                                               law_text  \n",
       "0     תקנות השקעות משותפות בנאמנות (סיווג קרנות לצור...  \n",
       "1     חוק הכניסה לישראל מתוך \\nחוק הכניסה לישראל, תש...  \n",
       "2     פקודת הרשויות המקומיות (מס עסקים) מתוך \\nפקודת...  \n",
       "3     חוק קביעת גיל מתוך \\nחוק קביעת גיל, תשכ״ד–1963...  \n",
       "4     תקנות לטיפול סביבתי בציוד חשמלי ואלקטרוני ובסו...  \n",
       "...                                                 ...  \n",
       "1988  חוק המועצות האזוריות (בחירת ראש המועצה) מתוך \\...  \n",
       "1989  חוק כלי היריה מתוך \\nחוק כלי היריה, תש״ט–1949\\...  \n",
       "1990  תקנות החברות (הקלות בעסקאות עם בעלי ענין) מתוך...  \n",
       "1991  פקודת התאונות ומחלות משלח-היד (הודעה) מתוך \\nפ...  \n",
       "1992  חוק מקרקעי ישראל מתוך \\nחוק מקרקעי ישראל, תש״ך...  \n",
       "\n",
       "[1993 rows x 2 columns]"
      ]
     },
     "execution_count": 12,
     "metadata": {},
     "output_type": "execute_result"
    }
   ],
   "source": [
    "random_laws_df = pd.read_csv(\"./extra_laws/extra_laws.csv\")\n",
    "random_laws_df"
   ]
  },
  {
   "cell_type": "markdown",
   "metadata": {},
   "source": [
    "As we can see we have now doubled the size of our data by adding extra 1993 new laws!<br><br>\n",
    "Let's look on the akn data and see how it looks like."
   ]
  },
  {
   "cell_type": "code",
   "execution_count": 13,
   "metadata": {},
   "outputs": [
    {
     "data": {
      "text/html": [
       "<div>\n",
       "<style scoped>\n",
       "    .dataframe tbody tr th:only-of-type {\n",
       "        vertical-align: middle;\n",
       "    }\n",
       "\n",
       "    .dataframe tbody tr th {\n",
       "        vertical-align: top;\n",
       "    }\n",
       "\n",
       "    .dataframe thead th {\n",
       "        text-align: right;\n",
       "    }\n",
       "</style>\n",
       "<table border=\"1\" class=\"dataframe\">\n",
       "  <thead>\n",
       "    <tr style=\"text-align: right;\">\n",
       "      <th></th>\n",
       "      <th>law_id</th>\n",
       "      <th>law_akn_text</th>\n",
       "    </tr>\n",
       "  </thead>\n",
       "  <tbody>\n",
       "    <tr>\n",
       "      <th>0</th>\n",
       "      <td>2002137</td>\n",
       "      <td>﻿\\n\\n\\n\\n\\n\\n\\n\\n\\n\\n\\n\\n\\n\\n\\n\\n\\n\\n\\n\\n\\n\\n\\...</td>\n",
       "    </tr>\n",
       "    <tr>\n",
       "      <th>1</th>\n",
       "      <td>2001743</td>\n",
       "      <td>﻿\\n\\n\\n\\n\\n\\n\\n\\n\\n\\n\\n\\n\\n\\n\\n\\n\\n\\n\\n\\n\\n\\n\\...</td>\n",
       "    </tr>\n",
       "    <tr>\n",
       "      <th>2</th>\n",
       "      <td>100009229</td>\n",
       "      <td>﻿\\n\\n\\n\\n\\n\\n\\n\\n\\n\\n\\n\\n\\n\\n\\n\\n\\n\\n\\n\\n\\n\\n\\...</td>\n",
       "    </tr>\n",
       "    <tr>\n",
       "      <th>3</th>\n",
       "      <td>100030557</td>\n",
       "      <td>﻿\\n\\n\\n\\n\\n\\n\\n\\n\\n\\n\\n\\n\\n\\n\\n\\n\\n\\n\\n\\n\\n\\n\\...</td>\n",
       "    </tr>\n",
       "    <tr>\n",
       "      <th>4</th>\n",
       "      <td>100005558</td>\n",
       "      <td>﻿\\n\\n\\n\\n\\n\\n\\n\\n\\n\\n\\n\\n\\n\\n\\n\\n\\n\\n\\n\\n\\n\\n\\...</td>\n",
       "    </tr>\n",
       "  </tbody>\n",
       "</table>\n",
       "</div>"
      ],
      "text/plain": [
       "      law_id                                       law_akn_text\n",
       "0    2002137  ﻿\\n\\n\\n\\n\\n\\n\\n\\n\\n\\n\\n\\n\\n\\n\\n\\n\\n\\n\\n\\n\\n\\n\\...\n",
       "1    2001743  ﻿\\n\\n\\n\\n\\n\\n\\n\\n\\n\\n\\n\\n\\n\\n\\n\\n\\n\\n\\n\\n\\n\\n\\...\n",
       "2  100009229  ﻿\\n\\n\\n\\n\\n\\n\\n\\n\\n\\n\\n\\n\\n\\n\\n\\n\\n\\n\\n\\n\\n\\n\\...\n",
       "3  100030557  ﻿\\n\\n\\n\\n\\n\\n\\n\\n\\n\\n\\n\\n\\n\\n\\n\\n\\n\\n\\n\\n\\n\\n\\...\n",
       "4  100005558  ﻿\\n\\n\\n\\n\\n\\n\\n\\n\\n\\n\\n\\n\\n\\n\\n\\n\\n\\n\\n\\n\\n\\n\\..."
      ]
     },
     "execution_count": 13,
     "metadata": {},
     "output_type": "execute_result"
    }
   ],
   "source": [
    "laws_akn_text.head()"
   ]
  },
  {
   "cell_type": "markdown",
   "metadata": {},
   "source": [
    "As you can see, the text in the akn files is not clean.<br>\n",
    "It contains a lot newlines for example, so we have to do some preprocessing...<br><br>\n",
    "Before we do some preprocessing we need to create a small dictionary. The dicionary will contain the hebrew years, months and days and will be used later on in the preprocessing step and when creating our models."
   ]
  },
  {
   "cell_type": "code",
   "execution_count": 14,
   "metadata": {},
   "outputs": [],
   "source": [
    "def replace_quotes(data):\n",
    "    \"\"\"\n",
    "    Replacing the char \" with ״ in a text.\n",
    "    \"\"\"\n",
    "    data = re.sub('\"', '״', data)\n",
    "    return data\n",
    "\n",
    "def get_hebrew_years(curr_years=82):\n",
    "    \"\"\"\n",
    "    Gets hebrew years from specific url.\n",
    "    \"\"\"\n",
    "    url = \"https://he.wikipedia.org/wiki/%D7%A7%D7%98%D7%92%D7%95%D7%A8%D7%99%D7%94:%D7%A9%D7%A0%D7%99%D7%9D_%D7%A2%D7%91%D7%A8%D7%99%D7%95%D7%AA_%D7%94%27%D7%AA%22%D7%A9_-_%D7%94%27%D7%AA%D7%A9%D7%A6%22%D7%98\"\n",
    "    soup = get_soup_url(url)\n",
    "    spans = soup.find_all(\"span\", class_=\"nodisambig\")\n",
    "    years = list(map(lambda x: x.text[2:], spans))\n",
    "    years = list(map(lambda x: replace_quotes(x), years))[:curr_years]\n",
    "    return years\n",
    "\n",
    "def pad_list_with_prefix(hebrew_list, prefix_list=[\"ה\",\"ב\",\"מ\"]):\n",
    "    \"\"\"\n",
    "    For each term in a list add to the term a prefix from a prefix list\n",
    "    \n",
    "    Args:\n",
    "        hebrew_list (list(String)): the list needs to be padded.\n",
    "        prefix_list (list(String)): list containing padding tokens.\n",
    "        \n",
    "    \"\"\"\n",
    "    new_hebrew_list = hebrew_list.copy()\n",
    "    for pref in prefix_list:\n",
    "        for word in hebrew_list:\n",
    "            new_word = f\"{pref}{word}\"\n",
    "            new_hebrew_list.append(new_word)\n",
    "    return new_hebrew_list"
   ]
  },
  {
   "cell_type": "code",
   "execution_count": 15,
   "metadata": {},
   "outputs": [],
   "source": [
    "month_list = [\"תשרי\",\"חשון\",\"כסלו\",\"טבת\",\"שבט\",\"אדר\",\"ניסן\",\"אייר\",\"סיון\",\"תמוז\",\"אב\",\"אלול\",]\n",
    "days_list = [\"א׳\",\"ב׳\",\"ג׳\",\"ד׳\",\"ה׳\",\"ו׳\",\"ז׳\",\"ח׳\",\"ט׳\",\"י׳\",\"י״א\",\"י״ב\",\"י״ג\",\"י״ד\",\"ט״ו\",\"ט״ז\",\"י״ז\",\"י״ח\",\"י״ט\",\"כ׳\",\"כ״א\",\"כ״ב\",\"כ״ג\",\"כ״ד\",\"כ״ה\",\"כ״ו\",\"כ״ז\",\"כ״ח\",\"כ״ט\",\"ל׳\",\"ל״א\",\"ל״ב\",\"ל״ג\",]\n",
    "years_list = get_hebrew_years()\n",
    "\n",
    "days_list_pref = pad_list_with_prefix(days_list)\n",
    "years_list = pad_list_with_prefix(years_list)\n",
    "month_list_pref = pad_list_with_prefix(month_list, prefix_list=[\"ב\",\"מ\"])"
   ]
  },
  {
   "cell_type": "code",
   "execution_count": 16,
   "metadata": {},
   "outputs": [],
   "source": [
    "words_with_quotes = [\"ע״ר\", \"א״י\", \"ס״ח\", \"תשי״ה\",\"ה״ח\"]\n",
    "words_with_quotes = pad_list_with_prefix(words_with_quotes)\n",
    "words_with_quotes = years_list + days_list_pref + words_with_quotes"
   ]
  },
  {
   "cell_type": "markdown",
   "metadata": {},
   "source": [
    "The preprocessing steps we are going to do are as follows:\n",
    "\n",
    "* **Extra newlines removal** - since extra newlines do not contributes to the model and increase the time and space complexity we will remove extra ones. \n",
    "\n",
    "* **Special double quotes removal** - since the char \" is translated to the chars [','] in the tokenization process, we will replace it with the char: ״.\n",
    "\n",
    "* **Special quote removal**  - since the char ' is causing us problems during the tokenization process, we will replace him with the hebrew ׳ equivalent.\n",
    "\n",
    "* **Padding colons/semicolons with space** - this helps to seperate the colons from the text itself.\n",
    "\n",
    "* **Replacing special characters** - we will replace special characters such as sqaure brackets, hypens in order to add spacing in the text.\n",
    "\n",
    "* **Removing extra whitespace** - since whitespace is not interesting for us and increase the number of parameters for the model we will be removing whitespace that is greater than 1.\n",
    "\n",
    "* **Padding quotes with spaces** - many times quotes are a represantation of a definition in a law, in order to extract the word inside of the quotes we padded the words containing quotes with spaces.\n"
   ]
  },
  {
   "cell_type": "code",
   "execution_count": 17,
   "metadata": {},
   "outputs": [],
   "source": [
    "def remove_extra_newlines(data, akn=True):\n",
    "    \"\"\"\n",
    "    Removes more than one newline in a text.\n",
    "    \n",
    "    Args:\n",
    "        data (String): text we wish to remove newlines from.\n",
    "        akn (bool): True if the @data came from akn xml file.\n",
    "        \n",
    "    Returns: the text without extra newlines.\n",
    "    \"\"\"\n",
    "    if akn:\n",
    "        data = data[1:]\n",
    "    data = re.sub(r'\\n\\s*\\n', '\\n', data)\n",
    "    return data\n",
    "\n",
    "\n",
    "def replace_dots(data):\n",
    "    \"\"\"\n",
    "    add space between colons in @data\n",
    "    \"\"\"\n",
    "    data = re.sub(':', ' : ', data)\n",
    "    return data\n",
    "\n",
    "def replace_dot_coma(data):\n",
    "    \"\"\"\n",
    "    add space between semi-colons in @data\n",
    "    \"\"\"\n",
    "    data = re.sub(';', ' ; ', data)\n",
    "    return data\n",
    "\n",
    "def replace_coma(data):\n",
    "    data = re.sub('[,]', ' , ', data)\n",
    "    return data\n",
    "\n",
    "def replace_dot(data):\n",
    "    \"\"\"\n",
    "    replacing dot surrounded square brackets with dot surrounded by spaces\n",
    "    \"\"\"\n",
    "    data = re.sub(\"[.]\", \" . \", data)\n",
    "    return data\n",
    "\n",
    "def replace_extra_whitespaces_into_one(data):\n",
    "    data = re.sub(' +', ' ', data)\n",
    "    return data\n",
    "\n",
    "def make_space_quotes(data, words_with_quotes):\n",
    "    \"\"\"\n",
    "    adding space to the start and the end of each word containing quotes which are not in @words_with_quotes.\n",
    "    \"\"\"\n",
    "    sentences = data.split('\\n')\n",
    "    new_sentences = []\n",
    "    for sen in sentences:\n",
    "        words = sen.split()\n",
    "        new_words = []\n",
    "        for word in words:\n",
    "            splitted_by_quote = word.split(\"״\")\n",
    "            bounds = [0, len(word) - 1]\n",
    "            if word not in words_with_quotes and len(splitted_by_quote) > 0 and word.find(\"״\") in bounds:\n",
    "                new_word = \" ״ \".join(splitted_by_quote).strip()\n",
    "                new_words.append(new_word)\n",
    "            else:\n",
    "                new_words.append(word)\n",
    "        new_sentences.append(\" \".join(new_words))\n",
    "    return \"\\n\".join(new_sentences)\n",
    "\n",
    "def replace_more_special_characters(data):\n",
    "    data = re.sub(\"[?]\", \" ? \", data)\n",
    "    data = re.sub(\"[!]\", \" ! \", data)\n",
    "    data = re.sub(\"[%]\", \" % \", data)\n",
    "    data = re.sub(\"[*]\", \" * \", data)\n",
    "    data = re.sub(\"[/]\", \" / \", data)\n",
    "    \n",
    "    data = re.sub(\"–\", \" – \", data)\n",
    "    data = re.sub(\"<\", \" < \", data)\n",
    "    data = re.sub(\">\", \" > \", data)\n",
    "    \n",
    "    data = re.sub(\"־\", \"-\", data)\n",
    "    data = re.sub(\"-\", \" - \", data)\n",
    "    return data\n",
    "\n",
    "def replace_quotes_with_quotes_and_spaces(data):\n",
    "    \"\"\"\n",
    "    Replacing all the quotes in @data with ' “ '\n",
    "    \"\"\"\n",
    "    data_ = data.split('\\n')\n",
    "    for j, line in enumerate(data_):\n",
    "        words = line.split(' ')\n",
    "        for i, word in enumerate(words):\n",
    "            quote_left = word.find('“')\n",
    "            quote_right = word.find('”')\n",
    "            word = list(word)\n",
    "            if quote_left != -1:\n",
    "                word[quote_left] = ' “ '\n",
    "            if quote_right != -1:\n",
    "                word[quote_right] = ' “ '\n",
    "            word = ''.join(word)\n",
    "            words[i] = word\n",
    "        line = ' '.join(words)\n",
    "        data_[j] = line\n",
    "    data = '\\n'.join(data_)\n",
    "    return data\n",
    "\n",
    "def replace_brackets(data):\n",
    "    data = re.sub(\"[(]\", \" ( \", data)\n",
    "    data = re.sub(\"[)]\", \" ) \", data)\n",
    "    data = re.sub(\"[[]\", \" [ \", data)\n",
    "    data = re.sub(\"[]]\", \" ] \", data)\n",
    "    return data\n",
    "\n",
    "def replace_single_quote(data):\n",
    "    \"\"\"\n",
    "    Replacing the char ' with ׳ in a text.\n",
    "    \"\"\"\n",
    "    data = re.sub(\"'\", '׳', data)\n",
    "    return data\n",
    "\n",
    "def preprocess_text(df, text_column_name=\"law_akn_text\"):\n",
    "    \"\"\"\n",
    "    Performs preprocessing on all the text in a dataframe\n",
    "    \n",
    "    Args:\n",
    "        df (DataFrame): the dataframe we wish to perform preprocessing on.\n",
    "        text_column_name: column name in @df we wish to perform the preprocessing on.\n",
    "        \n",
    "    Returns: The original dataframe after preprocessing.\n",
    "    \"\"\"\n",
    "    # removing extra newlines from all the text\n",
    "    df[text_column_name] = df[text_column_name].apply(lambda x: remove_extra_newlines(x))\n",
    "    # replacing special double quotes with regular in all the text\n",
    "    df[text_column_name] = df[text_column_name].apply(lambda x: replace_quotes(x))\n",
    "    # replacing special quote with regular in all the text\n",
    "    df[text_column_name] = df[text_column_name].apply(lambda x: replace_single_quote(x))\n",
    "    # padding colon with spaces\n",
    "    df[text_column_name] = df[text_column_name].apply(lambda x: replace_dots(x))\n",
    "    # padding semi-colon with spaces\n",
    "    df[text_column_name] = df[text_column_name].apply(lambda x: replace_dot_coma(x))\n",
    "    # padding dot with spaces\n",
    "    df[text_column_name] = df[text_column_name].apply(lambda x: replace_dot(x))\n",
    "    # padding brackets with spaces\n",
    "    df[text_column_name] = df[text_column_name].apply(lambda x: replace_brackets(x))\n",
    "    # padding commas with spaces\n",
    "    df[text_column_name] = df[text_column_name].apply(lambda x: replace_coma(x))\n",
    "    # padding brackets with spaces\n",
    "    df[text_column_name] = df[text_column_name].apply(lambda x: replace_more_special_characters(x))\n",
    "    # replacing all the quotes with a generic one\n",
    "    df[text_column_name] = df[text_column_name].apply(lambda x: replace_quotes_with_quotes_and_spaces(x))\n",
    "    # padding words containing quotes with spaces\n",
    "    df[text_column_name] = df[text_column_name].apply(lambda x: make_space_quotes(x, words_with_quotes))\n",
    "    # removing extra whitespace\n",
    "    df[text_column_name] = df[text_column_name].apply(lambda x: replace_extra_whitespaces_into_one(x))\n",
    "    return df"
   ]
  },
  {
   "cell_type": "code",
   "execution_count": 18,
   "metadata": {},
   "outputs": [],
   "source": [
    "laws_akn_text_clean = preprocess_text(laws_akn_text.copy())\n",
    "random_laws_text_clean = preprocess_text(random_laws_df.copy(), text_column_name=\"law_text\")"
   ]
  },
  {
   "cell_type": "markdown",
   "metadata": {},
   "source": [
    "Let's look at a sample of the cleaned data"
   ]
  },
  {
   "cell_type": "code",
   "execution_count": 19,
   "metadata": {
    "scrolled": true
   },
   "outputs": [
    {
     "data": {
      "text/html": [
       "<div>\n",
       "<style scoped>\n",
       "    .dataframe tbody tr th:only-of-type {\n",
       "        vertical-align: middle;\n",
       "    }\n",
       "\n",
       "    .dataframe tbody tr th {\n",
       "        vertical-align: top;\n",
       "    }\n",
       "\n",
       "    .dataframe thead th {\n",
       "        text-align: right;\n",
       "    }\n",
       "</style>\n",
       "<table border=\"1\" class=\"dataframe\">\n",
       "  <thead>\n",
       "    <tr style=\"text-align: right;\">\n",
       "      <th></th>\n",
       "      <th>law_id</th>\n",
       "      <th>law_akn_text</th>\n",
       "    </tr>\n",
       "  </thead>\n",
       "  <tbody>\n",
       "    <tr>\n",
       "      <th>0</th>\n",
       "      <td>2002137</td>\n",
       "      <td>\\nהחוק העותומני על האגודות\\nהנוסח מובא בתרגום ...</td>\n",
       "    </tr>\n",
       "    <tr>\n",
       "      <th>1</th>\n",
       "      <td>2001743</td>\n",
       "      <td>\\nפקודת האגודות השיתופיות\\nפקודה המאחדת ומתקנת...</td>\n",
       "    </tr>\n",
       "    <tr>\n",
       "      <th>2</th>\n",
       "      <td>100009229</td>\n",
       "      <td>\\nתקנות האגודות השיתופיות ( אגודות שיתופיות לא...</td>\n",
       "    </tr>\n",
       "    <tr>\n",
       "      <th>3</th>\n",
       "      <td>100030557</td>\n",
       "      <td>\\nתקנות האגודות השיתופיות ( אגרות ) , התשס״ב –...</td>\n",
       "    </tr>\n",
       "    <tr>\n",
       "      <th>4</th>\n",
       "      <td>100005558</td>\n",
       "      <td>\\nתקנות האגודות השיתופיות ( בוררות בסכסוכים ) ...</td>\n",
       "    </tr>\n",
       "  </tbody>\n",
       "</table>\n",
       "</div>"
      ],
      "text/plain": [
       "      law_id                                       law_akn_text\n",
       "0    2002137  \\nהחוק העותומני על האגודות\\nהנוסח מובא בתרגום ...\n",
       "1    2001743  \\nפקודת האגודות השיתופיות\\nפקודה המאחדת ומתקנת...\n",
       "2  100009229  \\nתקנות האגודות השיתופיות ( אגודות שיתופיות לא...\n",
       "3  100030557  \\nתקנות האגודות השיתופיות ( אגרות ) , התשס״ב –...\n",
       "4  100005558  \\nתקנות האגודות השיתופיות ( בוררות בסכסוכים ) ..."
      ]
     },
     "execution_count": 19,
     "metadata": {},
     "output_type": "execute_result"
    }
   ],
   "source": [
    "laws_akn_text_clean.head()"
   ]
  },
  {
   "cell_type": "code",
   "execution_count": 20,
   "metadata": {},
   "outputs": [
    {
     "name": "stdout",
     "output_type": "stream",
     "text": [
      "\n",
      "חוק איסור הכחשת השואה , תשמ״ו – 1986\n",
      "הגדרות\n",
      "1 .\n",
      "בחוק זה , “ פשע כלפי העם היהודי “ ו “ פשע כלפי האנושות “ – כמשמעותם בחוק לעשיית דין בנאצים ובעוזריהם , התש״י – 1950 .\n",
      "איסור הכחשת השואה\n",
      "2 .\n",
      "המפרסם , בכתב או בעל פה , דברים המכחישים את המעשים שבוצעו בתקופת השלטון הנאצי ושהם פשעים כלפי העם היהודי או פשעים כלפי האנושות , או ממעיטים את ממדיהם , בכוונה להגן על מבצעי הפשעים הללו או להביע להם אהדה או הזדהות , דינו – מאסר חמש שנים .\n",
      "איסור פרסום אהדה לפשעי הנאצים\n",
      "3 .\n",
      "המפרסם , בכתב או בעל פה , דברים של שבח , אהדה או הזדהות למעשים שנעשו בתקופת השלטון הנאצי ושהם פשעים כלפי העם היהודי או פשעים כלפי האנושות , דינו – מאסר חמש שנים .\n",
      "פרסום מותר\n",
      "4 .\n",
      "פרסום דין וחשבון נכון והוגן על פרסום האסור לפי חוק זה לא יראו כעבירה לפי חוק זה , ובלבד שלא נעשה מתוך כוונה להביע אהדה או הזדהות עם מבצעי הפשעים כלפי העם היהודי או כלפי האנושות .\n",
      "הגשת אישום\n",
      "5 .\n",
      "כתב אישום על עבירות לפי חוק זה לא יוגש אלא בידי היועץ המשפטי לממשלה או בהסכמתו .\n",
      "חיים הרצוג\n",
      "נשיא המדינה\n",
      "שמעון פרס\n",
      "ראש הממשלה\n",
      "יצחק מודעי\n",
      "שר המשפטים\n",
      "\n"
     ]
    }
   ],
   "source": [
    "print(laws_akn_text_clean[\"law_akn_text\"][50])"
   ]
  },
  {
   "cell_type": "markdown",
   "metadata": {},
   "source": [
    "We can see the law clearly. All the extra newlines are removed and the text is much more readable."
   ]
  },
  {
   "cell_type": "markdown",
   "metadata": {},
   "source": [
    "#### Data Exploration\n",
    "---\n",
    "Before we can create our dataset for the models theres a need of a little bit data exploration.<br>\n",
    "We have to find out for example what is the max sentence length and what is the max amount of sentences in a document.<br>\n",
    "The reasons why we chose to look on these parameters will become much more clearer in the next sections, for now le'ts find out what those parameters are."
   ]
  },
  {
   "cell_type": "code",
   "execution_count": 21,
   "metadata": {},
   "outputs": [],
   "source": [
    "def get_max_sentence_amount_length(df, text_column_name=\"law_akn_text\"):\n",
    "    \"\"\"\n",
    "    Returns the following:\n",
    "        1. Max sentence length in all the documents in a dataframe.\n",
    "        2. Max amount of sentences in all the documents in a dataframe.\n",
    "        3. A list of sentences lengths in all the documents in a dataframe.\n",
    "        4. A list of amounts of sentences in all the documents in a dataframe.\n",
    "        \n",
    "    Args:\n",
    "        df (DataFrame): dataframe we perform the calculations upon.\n",
    "        text_column_name (String): the column name contaning the text of the documents in @df.\n",
    "    \"\"\"\n",
    "    sentences_lengths = []\n",
    "    amount_of_sentences = []\n",
    "    for text in tqdm(df[text_column_name].values, desc=\"Computing Lengths\"):\n",
    "        # calculating amounts of sentences for the current document\n",
    "        curr_num_sentences = text.count(\"\\n\")\n",
    "        amount_of_sentences.append(curr_num_sentences)\n",
    "        # calculating sentence length (amount of words) for the current document\n",
    "        sentences = text.split(\"\\n\")\n",
    "        curr_sentences_lengths = list(map(lambda x: len(nltk.word_tokenize(x)), sentences))\n",
    "        sentences_lengths.extend(curr_sentences_lengths)\n",
    "    return np.max(sentences_lengths), np.max(amount_of_sentences), sentences_lengths, amount_of_sentences"
   ]
  },
  {
   "cell_type": "code",
   "execution_count": 22,
   "metadata": {},
   "outputs": [
    {
     "name": "stderr",
     "output_type": "stream",
     "text": [
      "Computing Lengths: 100%|██████████| 1942/1942 [00:48<00:00, 40.22it/s] \n"
     ]
    }
   ],
   "source": [
    "max_sentence_length_akn, max_amount_sentences_akn, sentences_lengths_akn, amount_of_sentences_akn = get_max_sentence_amount_length(laws_akn_text_clean)"
   ]
  },
  {
   "cell_type": "code",
   "execution_count": 23,
   "metadata": {},
   "outputs": [
    {
     "name": "stdout",
     "output_type": "stream",
     "text": [
      "AKN: max sentence length is: 3182\n",
      "AKN: max amount of sentences in a document is: 10835\n"
     ]
    }
   ],
   "source": [
    "print(f\"AKN: max sentence length is: {max_sentence_length_akn}\")\n",
    "print(f\"AKN: max amount of sentences in a document is: {max_amount_sentences_akn}\")"
   ]
  },
  {
   "cell_type": "code",
   "execution_count": 24,
   "metadata": {},
   "outputs": [
    {
     "name": "stderr",
     "output_type": "stream",
     "text": [
      "Computing Lengths: 100%|██████████| 1993/1993 [00:48<00:00, 40.70it/s]\n"
     ]
    }
   ],
   "source": [
    "max_sentence_length_rnd, max_amount_sentences_rnd, sentences_lengths_rnd, amount_of_sentences_rnd = get_max_sentence_amount_length(random_laws_text_clean, text_column_name=\"law_text\")"
   ]
  },
  {
   "cell_type": "code",
   "execution_count": 25,
   "metadata": {},
   "outputs": [
    {
     "name": "stdout",
     "output_type": "stream",
     "text": [
      "Scraped Laws: max sentence length is: 1295\n",
      "Scraped Laws: max amount of sentences in a document is: 7797\n"
     ]
    }
   ],
   "source": [
    "print(f\"Scraped Laws: max sentence length is: {max_sentence_length_rnd}\")\n",
    "print(f\"Scraped Laws: max amount of sentences in a document is: {max_amount_sentences_rnd}\")"
   ]
  },
  {
   "cell_type": "markdown",
   "metadata": {},
   "source": [
    "We can see that the maximum sentence length and the amount of sentences in the documents are quite large.<br>\n",
    "We will these values in order to create our dataset for the models, the reason why we chose them will become more clear in the next sections.<br>\n",
    "However, these values may not be optimal. In order to gain more understanding on these metrics we can plot the most frequent values for each metric.<br>\n",
    "Here we are plotting the most 30 frequent values for the amounts of sentences and sentence length in a document."
   ]
  },
  {
   "cell_type": "code",
   "execution_count": 26,
   "metadata": {},
   "outputs": [],
   "source": [
    "def get_x_y_from_counter(counter, limit=30):\n",
    "    most_common = counter.most_common(limit)\n",
    "    most_common.sort(key=lambda kv: kv[0])\n",
    "    x = list(map(lambda kv: kv[0], most_common))\n",
    "    y = list(map(lambda kv: kv[1], most_common))\n",
    "    return x, y"
   ]
  },
  {
   "cell_type": "code",
   "execution_count": 27,
   "metadata": {
    "scrolled": false
   },
   "outputs": [
    {
     "data": {
      "text/plain": [
       "Text(0, 0.5, 'Number of Sentences')"
      ]
     },
     "execution_count": 27,
     "metadata": {},
     "output_type": "execute_result"
    },
    {
     "data": {
      "image/png": "[encoded data removed]",
      "text/plain": [
       "<Figure size 1440x720 with 2 Axes>"
      ]
     },
     "metadata": {},
     "output_type": "display_data"
    }
   ],
   "source": [
    "amount_of_sen_counter = Counter(amount_of_sentences_akn)\n",
    "sen_length_counter = Counter(sentences_lengths_akn)\n",
    "\n",
    "amount_sen_hist_x, amount_sen_hist_y = get_x_y_from_counter(amount_of_sen_counter)\n",
    "sen_len_hist_x, sen_len_hist_y = get_x_y_from_counter(sen_length_counter)\n",
    "\n",
    "fig, axes = plt.subplots(1,2, figsize=(20, 10), constrained_layout=True)\n",
    "\n",
    "sns.barplot(ax=axes[0], x=amount_sen_hist_x, y=amount_sen_hist_y)\n",
    "sns.barplot(ax=axes[1], x=sen_len_hist_x, y=sen_len_hist_y)\n",
    "\n",
    "axes[0].set_title(\"top 30 frequent amount of sentences in a document\")\n",
    "axes[0].set_xlabel(\"Amount of Sentences\")\n",
    "axes[0].set_ylabel(\"Number of Documents\")\n",
    "\n",
    "axes[1].set_title(\"top 30 frequent sentences lengths is a document\")\n",
    "axes[1].set_xlabel(\"Sentence Length\")\n",
    "axes[1].set_ylabel(\"Number of Sentences\")"
   ]
  },
  {
   "cell_type": "code",
   "execution_count": 28,
   "metadata": {},
   "outputs": [
    {
     "name": "stdout",
     "output_type": "stream",
     "text": [
      "Mean amount of sentences in a document: 304.55561277033985\n",
      "Mean sentence length in a document: 12.5811954721102\n"
     ]
    }
   ],
   "source": [
    "print(f\"Mean amount of sentences in a document: {np.mean(amount_of_sentences_akn)}\")\n",
    "print(f\"Mean sentence length in a document: {np.mean(sentences_lengths_akn)}\")"
   ]
  },
  {
   "cell_type": "markdown",
   "metadata": {},
   "source": [
    "We can observe several things from the plots:\n",
    "\n",
    "1. There are a-lot of documents with various amount of sentences. We can see in the plot that for all the values we got the amount is around 20, however, the mean is 304. This means that the plot is not telling us enough about the amount of sentences.\n",
    "\n",
    "2. There are significantly more sentences with legth of 3 than all the others. This may be because the title of each law is containing about 3 words. The mean is 12 which is quite expected from the plot we got. We can see an increase towards 3 and as the sentence length gets larger the amount of sentences with this lengths gets lower.\n",
    "\n",
    "We may use these insights from the plots in order to do some optimizations for the models we will create."
   ]
  },
  {
   "cell_type": "markdown",
   "metadata": {},
   "source": [
    "Another interesting thing to explore is top frequent terms in the dataset.<br>\n",
    "This will allow us to see if there is any anomalies in the text and if our preprocessing method was decent.<br><br>\n",
    "We will plot the most 10 frequent unigrams, bigrams and trigrams in the dataset."
   ]
  },
  {
   "cell_type": "code",
   "execution_count": 29,
   "metadata": {},
   "outputs": [],
   "source": [
    "def get_top_ngram(corpus, n=1, limit=10):\n",
    "    \"\"\"\n",
    "    Returns the most frequent ngrams in a corpus\n",
    "    \n",
    "    Args:\n",
    "        corpus (list(String)): a list contaning all the text files.\n",
    "        n (int, default=1): specifies the ngrams range we want to return.\n",
    "        limit (int, default=10): specifies the amount of terms wished to be returned.\n",
    "    \"\"\"\n",
    "    vec = CountVectorizer(ngram_range=(n, n)).fit(corpus)\n",
    "    bag_of_words = vec.transform(corpus)\n",
    "    sum_words = bag_of_words.sum(axis=0) \n",
    "    words_freq = [(word, sum_words[0, idx]) \n",
    "                  for word, idx in tqdm(vec.vocabulary_.items(), desc=f\"Getting {n}-grams\")]\n",
    "    words_freq = sorted(words_freq, key = lambda x: x[1], reverse=True)\n",
    "    return words_freq[:limit]"
   ]
  },
  {
   "cell_type": "code",
   "execution_count": 30,
   "metadata": {},
   "outputs": [],
   "source": [
    "def bidi_text(text, lst=True):\n",
    "    \"\"\"\n",
    "    transforms a text/list of texts to be readable when plotting.\n",
    "    \"\"\"\n",
    "    if lst:\n",
    "        bidi_lst = [get_display(v) for v in text]\n",
    "        return bidi_lst\n",
    "    else:\n",
    "        return get_display(text)  "
   ]
  },
  {
   "cell_type": "code",
   "execution_count": 31,
   "metadata": {
    "scrolled": false
   },
   "outputs": [
    {
     "name": "stderr",
     "output_type": "stream",
     "text": [
      "Getting 1-grams: 100%|██████████| 113017/113017 [00:00<00:00, 1053160.75it/s]\n",
      "Getting 2-grams: 100%|██████████| 1632762/1632762 [00:01<00:00, 1141314.89it/s]\n",
      "Getting 3-grams: 100%|██████████| 3220051/3220051 [00:02<00:00, 1152998.60it/s]\n"
     ]
    },
    {
     "data": {
      "text/plain": [
       "Text(0, 0.5, 'Ngrams')"
      ]
     },
     "execution_count": 31,
     "metadata": {},
     "output_type": "execute_result"
    },
    {
     "data": {
      "image/png": "[encoded data removed]",
      "text/plain": [
       "<Figure size 1440x720 with 3 Axes>"
      ]
     },
     "metadata": {},
     "output_type": "display_data"
    }
   ],
   "source": [
    "text_col = laws_akn_text_clean[\"law_akn_text\"]\n",
    "\n",
    "top_10_unigrams = get_top_ngram(text_col, n=1)\n",
    "top_10_bigrams = get_top_ngram(text_col, n=2)\n",
    "top_10_trigrams = get_top_ngram(text_col, n=3)\n",
    "\n",
    "unigrams_10_x, unigrams_10_y = map(list, zip(*top_10_unigrams))\n",
    "bigrams_10_x, bigrams_10_y = map(list, zip(*top_10_bigrams))\n",
    "trigrams_10_x, trigrams_10_y = map(list, zip(*top_10_trigrams))\n",
    "\n",
    "fig, axes = plt.subplots(1,3, figsize=(20, 10), constrained_layout=True)\n",
    "\n",
    "sns.barplot(ax=axes[0], x=unigrams_10_y, y=bidi_text(unigrams_10_x))\n",
    "sns.barplot(ax=axes[1], x=bigrams_10_y, y=bidi_text(bigrams_10_x))\n",
    "sns.barplot(ax=axes[2], x=trigrams_10_y, y=bidi_text(trigrams_10_x))\n",
    "\n",
    "xlabel = \"Times Appeared\"\n",
    "ylabel = \"Ngrams\"\n",
    "\n",
    "axes[0].set_title(\"top 10 frequent unigrams in the akn texts\")\n",
    "axes[0].set_xlabel(xlabel)\n",
    "axes[0].set_ylabel(ylabel)\n",
    "\n",
    "axes[1].set_title(\"top 10 frequent bigrams in the akn texts\")\n",
    "axes[1].set_xlabel(xlabel)\n",
    "axes[1].set_ylabel(ylabel)\n",
    "\n",
    "axes[2].set_title(\"top 10 frequent trigrams in the akn texts\")\n",
    "axes[2].set_xlabel(xlabel)\n",
    "axes[2].set_ylabel(ylabel)"
   ]
  },
  {
   "cell_type": "markdown",
   "metadata": {},
   "source": [
    "First, from the plots above we can see that the most frequent terms containing stopwords.<br>\n",
    "Most of the time it is a good idea to remove these stopwords while doing NLP tasks, in our situation this is not the case.<br>\n",
    "Since our goal is to detect errors after OCR conversion stopwords are considered as any other words, we need to errors in them also.<br>\n",
    "Secondly, we can see that as the ngram_range gets larger we can obtain more knowledge about the text in the dataset. We can see term that a more frequent than other, we can see how they are relating to certain parts of a law document such as: sections, title and instructions.<br><br>\n",
    "Just for the sake of demostration that these terms are not the only main terms in each law we will present the following WordCloud:<br>\n",
    "We took the law which we showed earlier (חוק איסור הכחשת השואה) and showed the main terms in it using WordCloud."
   ]
  },
  {
   "cell_type": "code",
   "execution_count": 32,
   "metadata": {},
   "outputs": [],
   "source": [
    "def plot_word_cloud(text, title=\"\"):\n",
    "    from wordcloud import WordCloud\n",
    "    \n",
    "    bidi_text = get_display(text)\n",
    "    font_path = \"./fonts/VarelaRound-Regular.ttf\"\n",
    "    wordcloud = WordCloud(font_path=font_path).generate(bidi_text)\n",
    "    plt.title(title)\n",
    "    plt.imshow(wordcloud, interpolation='bilinear')\n",
    "    plt.axis(\"off\")\n",
    "    plt.show()"
   ]
  },
  {
   "cell_type": "code",
   "execution_count": 33,
   "metadata": {},
   "outputs": [],
   "source": [
    "all_akn_text_clean = laws_akn_text_clean[\"law_akn_text\"].values\n",
    "all_akn_text_clean_concat = \" \".join(all_akn_text_clean)"
   ]
  },
  {
   "cell_type": "code",
   "execution_count": 34,
   "metadata": {
    "scrolled": false
   },
   "outputs": [
    {
     "data": {
      "image/png": "[encoded data removed]",
      "text/plain": [
       "<Figure size 432x288 with 1 Axes>"
      ]
     },
     "metadata": {},
     "output_type": "display_data"
    }
   ],
   "source": [
    "plot_word_cloud(all_akn_text_clean[50])"
   ]
  },
  {
   "cell_type": "markdown",
   "metadata": {},
   "source": [
    "We can see that although the documents contains a-lot of stopwords, there are a-lot of other frequent terms as well."
   ]
  },
  {
   "cell_type": "markdown",
   "metadata": {},
   "source": [
    "### Creating Our Train and Test sets\n",
    "---\n",
    "After we cleaned the data it is time to create our train and test set.<br><br>\n",
    "Let's first understand what is the shape of these sets and from what they are constructed:<br>\n",
    "Each entry in the sets will be created from a text from the original collected laws that been through damage,<br>we are deliberately damaging the original text and saving it.<br><br>\n",
    "For each document we will be splitting it to sentences and damage it's content.<br>\n",
    "Our resulting data will be 3-dimentional, the dimentions are represanted by the following:\n",
    "\n",
    "1. Num of documents - number of documents taken from the akn files.\n",
    "2. Num of sentences - for each document the number of sentences it contains.\n",
    "3. Num of words in a sentence - for each sentence in a document the number of words it contains"
   ]
  },
  {
   "cell_type": "markdown",
   "metadata": {},
   "source": [
    "Notice that the dimentions 2 and 3 from the list above are not a constant for each document.<br>\n",
    "We will overcome this obstacle later on when we will try to feed the data to our models."
   ]
  },
  {
   "cell_type": "markdown",
   "metadata": {},
   "source": [
    "Before we can create the dataset for the models, let's look at the disribution of real tokens and the erros that appeared in the text.<br>\n",
    "We went over 300 documents and found the most frequent characters substitutions and erros."
   ]
  },
  {
   "cell_type": "code",
   "execution_count": 35,
   "metadata": {},
   "outputs": [],
   "source": [
    "def sort_chars_df(df, by=[\"Count\"], ascending=False):\n",
    "    \"\"\"\n",
    "    Sorting a DataFrame by column.\n",
    "    \"\"\"\n",
    "    df_copy = df.copy()\n",
    "    df_copy = df_copy.sort_values(by=by, ascending=ascending)\n",
    "    return df_copy.reset_index(drop=True)"
   ]
  },
  {
   "cell_type": "markdown",
   "metadata": {},
   "source": [
    "The frequent errors are given in two files which we will explain about now:\n",
    "\n",
    "* letters_and_errors.csv - characters substitutions and counts that do not contain special characters (such as \",\" for example).\n",
    "\n",
    "* letters_and_erros_special_chars.csv - characters substitutions and counts that contain special characters."
   ]
  },
  {
   "cell_type": "code",
   "execution_count": 36,
   "metadata": {},
   "outputs": [],
   "source": [
    "letters_and_errors_special_path = \"./letters_and_erros_special_chars.csv\"\n",
    "letters_and_errors_special = pd.read_csv(letters_and_errors_special_path)"
   ]
  },
  {
   "cell_type": "code",
   "execution_count": 37,
   "metadata": {},
   "outputs": [],
   "source": [
    "letters_and_errors_path = \"./letters_and_errors.csv\"\n",
    "letters_and_errors = pd.read_csv(letters_and_errors_path)"
   ]
  },
  {
   "cell_type": "code",
   "execution_count": 38,
   "metadata": {},
   "outputs": [],
   "source": [
    "# sorting the dataframe by \"Count\" column\n",
    "letters_and_errors_special = sort_chars_df(letters_and_errors_special)\n",
    "letters_and_errors = sort_chars_df(letters_and_errors)"
   ]
  },
  {
   "cell_type": "code",
   "execution_count": 39,
   "metadata": {},
   "outputs": [],
   "source": [
    "def get_replace_chars_labels_and_count(df):\n",
    "    \"\"\"\n",
    "    Returns a list of tuples with the following entries:\n",
    "        * tuple[0] (String): a string represanting characters substition.\n",
    "        * tuple[1] (int): represanting the amount the characters substition occured in the text files.\n",
    "    \"\"\"\n",
    "    rep_chars_and_counts = []\n",
    "    \n",
    "    for _, row in df.iterrows():\n",
    "        replace_str = f'{row[\"Real\"]} => {row[\"Error\"]}'\n",
    "        count = row[\"Count\"]\n",
    "        rep_chars_and_counts.append((replace_str, count))\n",
    "    return rep_chars_and_counts"
   ]
  },
  {
   "cell_type": "code",
   "execution_count": 40,
   "metadata": {},
   "outputs": [
    {
     "data": {
      "text/plain": [
       "Text(0, 0.5, 'Real to Error')"
      ]
     },
     "execution_count": 40,
     "metadata": {},
     "output_type": "execute_result"
    },
    {
     "data": {
      "image/png": "[encoded data removed]",
      "text/plain": [
       "<Figure size 1440x1080 with 2 Axes>"
      ]
     },
     "metadata": {},
     "output_type": "display_data"
    }
   ],
   "source": [
    "fig, axes = plt.subplots(1, 2, figsize=(20, 15), constrained_layout=True)\n",
    "\n",
    "labels_rep_reg = list(map(lambda x: x[0], get_replace_chars_labels_and_count(letters_and_errors)))\n",
    "rep_reg_count = list(map(lambda x: x[1], get_replace_chars_labels_and_count(letters_and_errors)))\n",
    "\n",
    "labels_rep_spe = list(map(lambda x: x[0], get_replace_chars_labels_and_count(letters_and_errors_special)))\n",
    "rep_spe_count = list(map(lambda x: x[1], get_replace_chars_labels_and_count(letters_and_errors_special)))\n",
    "\n",
    "sns.barplot(ax=axes[0], x=rep_reg_count, y=labels_rep_reg)\n",
    "sns.barplot(ax=axes[1], x=rep_spe_count, y=labels_rep_spe)\n",
    "\n",
    "xlabel = \"Num Appearences\"\n",
    "ylabel = \"Real to Error\"\n",
    "\n",
    "axes[0].set_title(\"Real and Error Regular Characters Counts (300 Documents)\")\n",
    "axes[0].set_xlabel(xlabel)\n",
    "axes[0].set_ylabel(ylabel)\n",
    "\n",
    "axes[1].set_title(\"Real and Error Special Characters Counts (300 Documents)\")\n",
    "axes[1].set_xlabel(xlabel)\n",
    "axes[1].set_ylabel(ylabel)"
   ]
  },
  {
   "cell_type": "markdown",
   "metadata": {},
   "source": [
    "We can see from the plots that some characters substitions appearned a significant amount of time more than others.<br>\n",
    "Later on we will consider of which characters it is best to take in order to get the best results in the models."
   ]
  },
  {
   "cell_type": "markdown",
   "metadata": {},
   "source": [
    "#### Damaging original text\n",
    "---\n",
    "Now it is time to damaged the dataframes text using the given csv files.<br>\n",
    "We will guassian distribution in order to damage the text. Each time we will sample a common error from the dicitionaries we made before and use it to damage the text. We will then mark the index of the token we damaged in a sentence as 1. The result is a binary matrix, where 1 indicates a damaged word and 0 non-damaged."
   ]
  },
  {
   "cell_type": "code",
   "execution_count": 41,
   "metadata": {},
   "outputs": [],
   "source": [
    "def create_list_for_counts(df, real=\"Real\", error=\"Error\"):\n",
    "    lst_real = []\n",
    "    lst_error = []\n",
    "    real_error_dict = {}\n",
    "    for i, row in df.iterrows():\n",
    "        lst_real.append(str(row[\"Real\"]))\n",
    "        \n",
    "        real_error_dict[str(row[\"Real\"])] = str(row[\"Error\"])\n",
    "        \n",
    "    return lst_real, real_error_dict"
   ]
  },
  {
   "cell_type": "code",
   "execution_count": 42,
   "metadata": {},
   "outputs": [],
   "source": [
    "def damage_text_files_new(text, token_damage_df, special_token_damage_df, max_sent_len=50, damage_ratio_text=0.2):\n",
    "    \"\"\"\n",
    "    Creates damage in the laws content. The damage based on guassian distribution of the data\n",
    "    frame that contains real tokens and their errors.\n",
    "    We can set the ratio of how many percentage of the text we want to damage.\n",
    "    The damaging is done randomly in the text.\n",
    "    \n",
    "    Args:\n",
    "        text: law content\n",
    "        token_damage_df: Data frame of the letter tokens and their errors\n",
    "        special_token_damage_df: Data frame of the special tokens and their errors.\n",
    "        max_sent_len: can define the maximum sentence length.\n",
    "        damage_ratio_text: Sets what is the percetange of the text that will be damaged.\n",
    "        \n",
    "    Returns:\n",
    "        1. text after it has been damaged.\n",
    "        2. ground truth matrix for the text, it is binary matrix. 1 indicate a word/token that\n",
    "        was damaged and 0 word/token that was not damaged.\n",
    "    \n",
    "    \"\"\"   \n",
    "    # create list for special and regular tokens\n",
    "    lst_reg_real_token, real_error_dict_reg = create_list_for_counts(token_damage_df)\n",
    "    lst_special_real_token, real_error_dict_special = create_list_for_counts(special_token_damage_df)\n",
    "    \n",
    "    all_words_len = len(nltk.word_tokenize(text))\n",
    "    sentences = text.split(\"\\n\")\n",
    "    damage_words_sentences_indexes = np.zeros((len(sentences), max_sent_len))\n",
    "    \n",
    "    # total amount of damage for special and regular token\n",
    "    total_damage_reg_token = int(damage_ratio_text * all_words_len * 0.8)\n",
    "    total_damage_special_token = int(damage_ratio_text * all_words_len * 0.2)\n",
    "    \n",
    "    # create distribution for each token and number of time to damage\n",
    "    reg_dict = Counter(lst_reg_real_token[int(random.betavariate(1.3, 5)*len(lst_reg_real_token))] for _ in range(total_damage_reg_token))\n",
    "    special_dict =Counter(lst_special_real_token[int(random.betavariate(0.1, 5)*len(lst_special_real_token))] for _ in range(total_damage_special_token))\n",
    "    \n",
    "    for i, token_real in enumerate(reg_dict):\n",
    "\n",
    "        for j in range(reg_dict[token_real]):\n",
    "            \n",
    "            # take random sentence\n",
    "            sent_idx = random.randint(0, len(sentences) -1)\n",
    "            sent = sentences[sent_idx]\n",
    "            sent = \" \".join(sent.split())\n",
    "            words = sent.split()\n",
    "\n",
    "            # Check in which words the charcter appear in\n",
    "            word_char_occur = []\n",
    "            for j, word in enumerate(words):\n",
    "                if token_real in word and j < max_sent_len:\n",
    "                    word_char_occur.append(j)\n",
    "            \n",
    "            # if there is no appearnce, concatanate the sentence and continue the next loop\n",
    "            if word_char_occur == []:\n",
    "                sent = ' '.join(words)\n",
    "                sentences[sent_idx] = sent\n",
    "                continue\n",
    "            \n",
    "            # if there are appearances, take random word, \n",
    "            word_idx = random.randint(0, len(word_char_occur) -1)\n",
    "            word_idx = word_char_occur[word_idx]\n",
    "            if damage_words_sentences_indexes[sent_idx][word_idx] == 0:\n",
    "                word = words[word_idx]\n",
    "                if len(token_real) == 2:\n",
    "                    new_word = word.replace(token_real, real_error_dict_reg[token_real])\n",
    "                    words[word_idx] = new_word\n",
    "                    damage_words_sentences_indexes[sent_idx][word_idx] = 1\n",
    "                else:\n",
    "                    first_occur = word.find(token_real)\n",
    "                    word = list(word)\n",
    "                    word[first_occur] = real_error_dict_reg[token_real]\n",
    "                    word = ''.join(word)\n",
    "                    words[word_idx] = word\n",
    "                    damage_words_sentences_indexes[sent_idx][word_idx] = 1\n",
    "\n",
    "            sent = \" \".join(words)\n",
    "            sentences[sent_idx] = sent\n",
    "            \n",
    "    for i, token_special in enumerate(special_dict):\n",
    "        \n",
    "        for j in range(special_dict[token_special]):\n",
    "            \n",
    "            # take random sentence\n",
    "            sent_idx = random.randint(0, len(sentences) -1)\n",
    "            sent = sentences[sent_idx]\n",
    "            sent = \" \".join(sent.split())\n",
    "            words = sent.split()\n",
    "            \n",
    "            # Check in which words the charcter appear in\n",
    "            word_char_occur = []\n",
    "            for j, word in enumerate(words):\n",
    "                if token_special in word and j < max_sent_len:\n",
    "                    word_char_occur.append(j)\n",
    "            \n",
    "            # if there is no appearnce, concatanate the sentence and continue the next loop\n",
    "            if word_char_occur == []:\n",
    "                sent = ' '.join(words)\n",
    "                sentences[sent_idx] = sent\n",
    "                continue\n",
    "            \n",
    "            # if there are appearances, take random word, \n",
    "            word_idx = random.randint(0, len(word_char_occur) -1)\n",
    "            word_idx = word_char_occur[word_idx]\n",
    "            if damage_words_sentences_indexes[sent_idx][word_idx] == 0:\n",
    "                word = words[word_idx]\n",
    "                first_occur = word.find(token_special)\n",
    "                word = list(word)\n",
    "                word[first_occur] = real_error_dict_special[token_special]\n",
    "                word = ''.join(word)\n",
    "                words[word_idx] = word\n",
    "                damage_words_sentences_indexes[sent_idx][word_idx] = 1\n",
    "\n",
    "            sent = \" \".join(words)\n",
    "            sentences[sent_idx] = sent\n",
    "\n",
    "    text = '\\n'.join(sentences)\n",
    "    return text, damage_words_sentences_indexes"
   ]
  },
  {
   "cell_type": "code",
   "execution_count": 43,
   "metadata": {},
   "outputs": [],
   "source": [
    "def shuffle_df(df):\n",
    "    \"\"\"\n",
    "    shuffles a DataFrame randomly.\n",
    "    \"\"\"\n",
    "    from sklearn.utils import shuffle\n",
    "    df = shuffle(df)\n",
    "    return df"
   ]
  },
  {
   "cell_type": "code",
   "execution_count": 44,
   "metadata": {},
   "outputs": [],
   "source": [
    "def create_damaged_df_and_label(df, rand_df, damage_df, damage_df_special, text_col_name=\"law_akn_text\"):\n",
    "    df_damage_lst = []\n",
    "    \n",
    "    for i, row in tqdm(df.iterrows(), desc=\"Damaging akn text\"):\n",
    "        damaged_text, damaged_words_sen = damage_text_files_new(row[text_col_name], damage_df, damage_df_special)\n",
    "        df_damage_lst.append({\n",
    "            \"law_id\": row[\"law_id\"],\n",
    "            \"damaged_text\": damaged_text,\n",
    "            \"damaged_words_sen\": damaged_words_sen,\n",
    "        })\n",
    "    \n",
    "    for i, row in tqdm(rand_df.iterrows(), desc=\"Damaging scraped laws text\"):\n",
    "        damaged_text, damaged_words_sen = damage_text_files_new(row[\"law_text\"], damage_df, damage_df_special)\n",
    "        df_damage_lst.append({\n",
    "            \"law_id\": i,\n",
    "            \"damaged_text\": damaged_text,\n",
    "            \"damaged_words_sen\": damaged_words_sen,\n",
    "        })\n",
    "    col_names = [\"law_id\", \"damaged_text\", \"damaged_words_sen\"]\n",
    "    return pd.DataFrame(df_damage_lst, columns=col_names)"
   ]
  },
  {
   "cell_type": "code",
   "execution_count": 45,
   "metadata": {},
   "outputs": [
    {
     "name": "stderr",
     "output_type": "stream",
     "text": [
      "Damaging akn text: 1942it [00:47, 40.58it/s] \n",
      "Damaging scraped laws text: 1993it [01:00, 32.91it/s]\n"
     ]
    }
   ],
   "source": [
    "akn_df = laws_akn_text_clean\n",
    "rand_df = random_laws_text_clean\n",
    "damaged_df = create_damaged_df_and_label(akn_df, rand_df, letters_and_errors, letters_and_errors_special)\n",
    "random.seed(42)"
   ]
  },
  {
   "cell_type": "code",
   "execution_count": 46,
   "metadata": {},
   "outputs": [
    {
     "data": {
      "text/html": [
       "<div>\n",
       "<style scoped>\n",
       "    .dataframe tbody tr th:only-of-type {\n",
       "        vertical-align: middle;\n",
       "    }\n",
       "\n",
       "    .dataframe tbody tr th {\n",
       "        vertical-align: top;\n",
       "    }\n",
       "\n",
       "    .dataframe thead th {\n",
       "        text-align: right;\n",
       "    }\n",
       "</style>\n",
       "<table border=\"1\" class=\"dataframe\">\n",
       "  <thead>\n",
       "    <tr style=\"text-align: right;\">\n",
       "      <th></th>\n",
       "      <th>law_id</th>\n",
       "      <th>damaged_text</th>\n",
       "      <th>damaged_words_sen</th>\n",
       "    </tr>\n",
       "  </thead>\n",
       "  <tbody>\n",
       "    <tr>\n",
       "      <th>0</th>\n",
       "      <td>2002137</td>\n",
       "      <td>\\nהחוק העותומני על האכודות\\nהנוסח מונא בתרכום ...</td>\n",
       "      <td>[[0.0, 0.0, 0.0, 0.0, 0.0, 0.0, 0.0, 0.0, 0.0,...</td>\n",
       "    </tr>\n",
       "    <tr>\n",
       "      <th>1</th>\n",
       "      <td>2001743</td>\n",
       "      <td>\\nפקודת האגודות השיתופיות\\nפקודה המאחדת ומתקגת...</td>\n",
       "      <td>[[0.0, 0.0, 0.0, 0.0, 0.0, 0.0, 0.0, 0.0, 0.0,...</td>\n",
       "    </tr>\n",
       "    <tr>\n",
       "      <th>2</th>\n",
       "      <td>100009229</td>\n",
       "      <td>\\nתקנות האגודות השיתופיות ( אגודות שיתופיות לא...</td>\n",
       "      <td>[[0.0, 0.0, 0.0, 0.0, 0.0, 0.0, 0.0, 0.0, 0.0,...</td>\n",
       "    </tr>\n",
       "    <tr>\n",
       "      <th>3</th>\n",
       "      <td>100030557</td>\n",
       "      <td>\\nתקנות האגודות השיתופיות ( אגרות ) , התשס״ב –...</td>\n",
       "      <td>[[0.0, 0.0, 0.0, 0.0, 0.0, 0.0, 0.0, 0.0, 0.0,...</td>\n",
       "    </tr>\n",
       "    <tr>\n",
       "      <th>4</th>\n",
       "      <td>100005558</td>\n",
       "      <td>\\nתקנות האגודות השיתופיות ( בוררות בסכסוכים ) ...</td>\n",
       "      <td>[[0.0, 0.0, 0.0, 0.0, 0.0, 0.0, 0.0, 0.0, 0.0,...</td>\n",
       "    </tr>\n",
       "    <tr>\n",
       "      <th>...</th>\n",
       "      <td>...</td>\n",
       "      <td>...</td>\n",
       "      <td>...</td>\n",
       "    </tr>\n",
       "    <tr>\n",
       "      <th>3930</th>\n",
       "      <td>1988</td>\n",
       "      <td>וק המיעצות האזוריות ( בחירת ראש המיעצה ) מתוך\\...</td>\n",
       "      <td>[[0.0, 1.0, 0.0, 0.0, 0.0, 0.0, 1.0, 0.0, 0.0,...</td>\n",
       "    </tr>\n",
       "    <tr>\n",
       "      <th>3931</th>\n",
       "      <td>1989</td>\n",
       "      <td>וק כלי היריה מתוך\\nחיק כלי הידיה / תש״ט – 1949...</td>\n",
       "      <td>[[0.0, 0.0, 0.0, 0.0, 0.0, 0.0, 0.0, 0.0, 0.0,...</td>\n",
       "    </tr>\n",
       "    <tr>\n",
       "      <th>3932</th>\n",
       "      <td>1990</td>\n",
       "      <td>קנות החברות ( הקלות בעסקאות עם בעלי עגין ) מתו...</td>\n",
       "      <td>[[0.0, 0.0, 0.0, 0.0, 0.0, 0.0, 0.0, 1.0, 0.0,...</td>\n",
       "    </tr>\n",
       "    <tr>\n",
       "      <th>3933</th>\n",
       "      <td>1991</td>\n",
       "      <td>קודת התאוגות ומחלות משלח - היד ( הידעה ) מתוך\\...</td>\n",
       "      <td>[[0.0, 1.0, 0.0, 0.0, 0.0, 0.0, 0.0, 1.0, 0.0,...</td>\n",
       "    </tr>\n",
       "    <tr>\n",
       "      <th>3934</th>\n",
       "      <td>1992</td>\n",
       "      <td>יק מקדקעי ישראל מתוך\\nחוק מקרקעי ישראל , תש״ך ...</td>\n",
       "      <td>[[1.0, 1.0, 0.0, 0.0, 0.0, 0.0, 0.0, 0.0, 0.0,...</td>\n",
       "    </tr>\n",
       "  </tbody>\n",
       "</table>\n",
       "<p>3935 rows × 3 columns</p>\n",
       "</div>"
      ],
      "text/plain": [
       "         law_id                                       damaged_text  \\\n",
       "0       2002137  \\nהחוק העותומני על האכודות\\nהנוסח מונא בתרכום ...   \n",
       "1       2001743  \\nפקודת האגודות השיתופיות\\nפקודה המאחדת ומתקגת...   \n",
       "2     100009229  \\nתקנות האגודות השיתופיות ( אגודות שיתופיות לא...   \n",
       "3     100030557  \\nתקנות האגודות השיתופיות ( אגרות ) , התשס״ב –...   \n",
       "4     100005558  \\nתקנות האגודות השיתופיות ( בוררות בסכסוכים ) ...   \n",
       "...         ...                                                ...   \n",
       "3930       1988  וק המיעצות האזוריות ( בחירת ראש המיעצה ) מתוך\\...   \n",
       "3931       1989  וק כלי היריה מתוך\\nחיק כלי הידיה / תש״ט – 1949...   \n",
       "3932       1990  קנות החברות ( הקלות בעסקאות עם בעלי עגין ) מתו...   \n",
       "3933       1991  קודת התאוגות ומחלות משלח - היד ( הידעה ) מתוך\\...   \n",
       "3934       1992  יק מקדקעי ישראל מתוך\\nחוק מקרקעי ישראל , תש״ך ...   \n",
       "\n",
       "                                      damaged_words_sen  \n",
       "0     [[0.0, 0.0, 0.0, 0.0, 0.0, 0.0, 0.0, 0.0, 0.0,...  \n",
       "1     [[0.0, 0.0, 0.0, 0.0, 0.0, 0.0, 0.0, 0.0, 0.0,...  \n",
       "2     [[0.0, 0.0, 0.0, 0.0, 0.0, 0.0, 0.0, 0.0, 0.0,...  \n",
       "3     [[0.0, 0.0, 0.0, 0.0, 0.0, 0.0, 0.0, 0.0, 0.0,...  \n",
       "4     [[0.0, 0.0, 0.0, 0.0, 0.0, 0.0, 0.0, 0.0, 0.0,...  \n",
       "...                                                 ...  \n",
       "3930  [[0.0, 1.0, 0.0, 0.0, 0.0, 0.0, 1.0, 0.0, 0.0,...  \n",
       "3931  [[0.0, 0.0, 0.0, 0.0, 0.0, 0.0, 0.0, 0.0, 0.0,...  \n",
       "3932  [[0.0, 0.0, 0.0, 0.0, 0.0, 0.0, 0.0, 1.0, 0.0,...  \n",
       "3933  [[0.0, 1.0, 0.0, 0.0, 0.0, 0.0, 0.0, 1.0, 0.0,...  \n",
       "3934  [[1.0, 1.0, 0.0, 0.0, 0.0, 0.0, 0.0, 0.0, 0.0,...  \n",
       "\n",
       "[3935 rows x 3 columns]"
      ]
     },
     "execution_count": 46,
     "metadata": {},
     "output_type": "execute_result"
    }
   ],
   "source": [
    "damaged_df"
   ]
  },
  {
   "cell_type": "markdown",
   "metadata": {},
   "source": [
    "We can now save the dataframe with the errors for later use"
   ]
  },
  {
   "cell_type": "code",
   "execution_count": 47,
   "metadata": {},
   "outputs": [],
   "source": [
    "def save_text_damaged_in_file(text, path):\n",
    "    \"\"\"\n",
    "    Saves a damaged text file in path\n",
    "    \n",
    "    Args:\n",
    "        text (String): text to be saved.\n",
    "        path (String): where to save the text file.\n",
    "    \"\"\"\n",
    "    os.makedirs(os.path.dirname(path), exist_ok=True)\n",
    "    with open(path, \"w\", encoding=\"utf-8\") as f:\n",
    "        f.write(text)\n",
    "\n",
    "def save_ground_truth_in_file(np_matrix, path):\n",
    "    os.makedirs(os.path.dirname(path), exist_ok=True)\n",
    "    np.save(path, np_matrix)\n",
    "\n",
    "def save_damaged_text_from_df(df):\n",
    "    base_file_path = \"./Damaged_texts\"\n",
    "    base_file_path_gt = \"./ground_truth\"\n",
    "    for i, row in df.iterrows():\n",
    "        law_id = row[\"law_id\"]\n",
    "        ground_truth = row[\"damaged_words_sen\"]\n",
    "        law_damaged_text = row[\"damaged_text\"][1:]\n",
    "        \n",
    "        file_path = f'{base_file_path}/{law_id}.txt'\n",
    "        \n",
    "        gt_file_path = f'{base_file_path_gt}/{law_id}.npy'\n",
    "        \n",
    "        save_text_damaged_in_file(law_damaged_text, file_path)\n",
    "        \n",
    "        save_ground_truth_in_file(ground_truth, gt_file_path)"
   ]
  },
  {
   "cell_type": "code",
   "execution_count": 48,
   "metadata": {
    "scrolled": true
   },
   "outputs": [],
   "source": [
    "save_damaged_text_from_df(damaged_df)"
   ]
  },
  {
   "cell_type": "code",
   "execution_count": 49,
   "metadata": {
    "scrolled": false
   },
   "outputs": [],
   "source": [
    "directory = \"./Damaged_texts/\"\n",
    "df_damage_lst = []\n",
    "for filename in os.listdir(directory):\n",
    "    file = open(directory + filename, \"r\", encoding=\"utf-8\")\n",
    "    damaged_text = file.read()\n",
    "    filename = filename[:-4]\n",
    "    df_damage_lst.append({\n",
    "        \"law_id\": filename,\n",
    "        \"damaged_text\": damaged_text,\n",
    "    })\n",
    "col_names = [\"law_id\", \"damaged_text\"]\n",
    "damaged_df_v1 = pd.DataFrame(df_damage_lst, columns=col_names)\n"
   ]
  },
  {
   "cell_type": "code",
   "execution_count": 50,
   "metadata": {},
   "outputs": [],
   "source": [
    "directory = \"./ground_truth/\"\n",
    "df_damage_lst = []\n",
    "for i, filename in enumerate(os.listdir(directory)):\n",
    "    mat = np.load(directory + filename)\n",
    "    mat = mat[1:]\n",
    "    filename = filename[:-4]\n",
    "    df_damage_lst.append({\n",
    "        \"law_id\": filename,\n",
    "        \"damaged_text\": damaged_df_v1[\"damaged_text\"][i],\n",
    "        \"damaged_words_sen\": mat,\n",
    "    })\n",
    "col_names = [\"law_id\", \"damaged_text\", \"damaged_words_sen\"]\n",
    "damaged_df = pd.DataFrame(df_damage_lst, columns=col_names)"
   ]
  },
  {
   "cell_type": "code",
   "execution_count": 51,
   "metadata": {},
   "outputs": [],
   "source": [
    "damaged_df = shuffle_df(damaged_df)"
   ]
  },
  {
   "cell_type": "markdown",
   "metadata": {},
   "source": [
    "Now it is time to split the data for train, test and validation<br>\n",
    "Since we want the model to learn on a large amount of data we will be using the following train,test,validation split:\n",
    "\n",
    "1. 70% of the data will be for train.\n",
    "2. 20% of the data will be for validation.\n",
    "3. 10% of the data will be for test."
   ]
  },
  {
   "cell_type": "code",
   "execution_count": 52,
   "metadata": {},
   "outputs": [],
   "source": [
    "X_train = damaged_df[\"damaged_text\"][1180:]\n",
    "y_train = damaged_df[\"damaged_words_sen\"][1180:]\n",
    "\n",
    "from sklearn.model_selection import train_test_split\n",
    "\n",
    "X_test, X_validation, y_test, y_validation = train_test_split(damaged_df[\"damaged_text\"][:1180], damaged_df[\"damaged_words_sen\"][:1180], test_size=0.66, random_state=24)"
   ]
  },
  {
   "cell_type": "markdown",
   "metadata": {},
   "source": [
    "##### Creating a tokenizer\n",
    "---\n",
    "The next step is to transform our data to sequences, in order to do so we will use keras built in Tokenizer.<br>\n",
    "The text we will be feeding the tokenizer with will be constructed from the following:\n",
    "\n",
    "* all the text from the train set.\n",
    "* all the years, days and months including prefixes.\n",
    "* all numbers between 0-5000"
   ]
  },
  {
   "cell_type": "code",
   "execution_count": 53,
   "metadata": {},
   "outputs": [],
   "source": [
    "def get_numbers_to_tokenizer():\n",
    "    number_strings = \"\"\n",
    "    for i in range(5000):\n",
    "        number_strings += \" \" + str(i) + \" \"\n",
    "    return number_strings"
   ]
  },
  {
   "cell_type": "code",
   "execution_count": 54,
   "metadata": {},
   "outputs": [],
   "source": [
    "# joining all the text in the train set\n",
    "\n",
    "all_text = \" \".join(akn_df[\"law_akn_text\"][1180:])\n",
    "\n",
    "all_text_rand = \" \".join(rand_df[\"law_text\"])\n",
    "\n",
    "day_string = \" \".join(days_list_pref)\n",
    "\n",
    "years_string = \" \".join(years_list)\n",
    "\n",
    "month_string = \" \".join(month_list_pref)\n",
    "\n",
    "all_train_text = \" \".join([all_text, all_text_rand, get_numbers_to_tokenizer(), day_string, years_string, month_string])"
   ]
  },
  {
   "cell_type": "code",
   "execution_count": 55,
   "metadata": {},
   "outputs": [],
   "source": [
    "sentence_length = 50\n",
    "epochs = 25\n",
    "batch_size = 200"
   ]
  },
  {
   "cell_type": "code",
   "execution_count": 56,
   "metadata": {},
   "outputs": [],
   "source": [
    "def generate_tokenizer(train_txt):\n",
    "    \"\"\"\n",
    "    Args: \n",
    "         train_txt (String) - All the data in one text file, for the tokenizer\n",
    "    Returns: \n",
    "        vocab_size (int) - the size of vocabulary that was created by the tokenizer\n",
    "        tokenizer (keras.Tokenizer) - in order to use for all the texts with the same tokens\n",
    "    \"\"\"\n",
    "    tokenizer_ = Tokenizer(filters='\\t\\n', oov_token='unk')\n",
    "    tokenizer_.fit_on_texts([train_txt])\n",
    "    vocab_size = len(tokenizer_.word_index) + 1\n",
    "    train_db = tokenizer_.texts_to_sequences([train_txt])[0]\n",
    "\n",
    "    return tokenizer_, vocab_size, train_db"
   ]
  },
  {
   "cell_type": "code",
   "execution_count": 57,
   "metadata": {
    "scrolled": true
   },
   "outputs": [],
   "source": [
    "tokenizer, vocab_size, train_db = generate_tokenizer(all_train_text)"
   ]
  },
  {
   "cell_type": "code",
   "execution_count": 58,
   "metadata": {},
   "outputs": [
    {
     "data": {
      "text/plain": [
       "137422"
      ]
     },
     "execution_count": 58,
     "metadata": {},
     "output_type": "execute_result"
    }
   ],
   "source": [
    "vocab_size"
   ]
  },
  {
   "cell_type": "markdown",
   "metadata": {},
   "source": [
    "###### Creating X sets\n",
    "---\n",
    "In order to use machine learning models and also deep learning the data needs to be coverted to constant shape.<br><br>\n",
    "We will first describe the transformation on the X sets:<br><br>\n",
    "As recalled, the X sets containing the damaged text for each document. In order to transform it constant size we will decide on a constant **amount of sentences** and **constant sentence length**. So, for each document we will taking a constant amount of sentences and each sentence will be at a constant length.\n",
    "In order to feed the data to the models we need to transofrm it to numbers. We will use the generated tokenizer from above in order to transfom each sentence in a doucment to a sequence of numbers.<br><br>\n",
    "So the final shape for the X sets will be: (Num of Documents, Number of Sentences, Sentence Length)."
   ]
  },
  {
   "cell_type": "markdown",
   "metadata": {},
   "source": [
    "###### Creating Y sets\n",
    "---\n",
    "Next, we will describe the transformation on the Y sets:<br><br>\n",
    "As recalled, the Y sets containing a 2d matrix for each document. Each row in the matrix represant a sentence in the document and each column represant the terms in the sentence. The transformation of these sets will be quite the same as the one for the X sets. We will take a constant amount of sentences and a constant sentence length as the ones before.<br><br>\n",
    "So the final shape for the y sets will be: (Num of Documents, Number of Sentences, Sentence Length).\n",
    "<br><br>\n",
    "\n",
    "**Note**: We took the following parameters based on the means we calculated above:\n",
    "* amount of sentences in a document - 200 (mean is about 305).\n",
    "* sentence length - 50 (mean is about 13)."
   ]
  },
  {
   "cell_type": "code",
   "execution_count": 59,
   "metadata": {},
   "outputs": [],
   "source": [
    "def create_X_set(lines, tokenizer):\n",
    "    \"\"\"\n",
    "    transform @lines to sequences given by @tokenizer.\n",
    "    \n",
    "    Args:\n",
    "        lines (list(String)): list of lines composing a text file.\n",
    "        tokenizer (keras.Tokenizer): a keras tokenizer trained on text.\n",
    "    \"\"\"\n",
    "    lines_tokens = np.zeros((batch_size, sentence_length))\n",
    "    \n",
    "    for i, line in enumerate(lines):\n",
    "        # taking only the first @batch_size lines\n",
    "        if i < batch_size:\n",
    "            line_seq = tokenizer.texts_to_sequences([line])\n",
    "            # pad each sequence with 0 to reach @sentence_length\n",
    "            line_seq = pad_sequences(line_seq, maxlen=sentence_length, padding='post')\n",
    "            lines_tokens[i] = line_seq[0]\n",
    "    \n",
    "    return np.array([lines_tokens])\n",
    "\n",
    "def create_y_set(damage_matrix):\n",
    "    damaged_mat = np.zeros((batch_size, sentence_length))\n",
    "    \n",
    "    for i, sen_damage_mat in enumerate(damage_matrix):\n",
    "        # taking only the first @batch_size matrices\n",
    "        if i < batch_size:\n",
    "            # pad each sequence with 0 to reach @sentence_length\n",
    "            curr_damage = pad_sequences([sen_damage_mat], maxlen=sentence_length, padding='post')\n",
    "            damaged_mat[i] = curr_damage\n",
    "    \n",
    "    return np.array([damaged_mat])\n",
    "\n",
    "def create_X_and_y_set(text_lines, tokenizer, label):\n",
    "    X = create_X_set(text_lines, tokenizer)\n",
    "    y = create_y_set(label)\n",
    "    return X, y      "
   ]
  },
  {
   "cell_type": "code",
   "execution_count": 60,
   "metadata": {},
   "outputs": [],
   "source": [
    "def create_models_sets(texts, labels, tokenizer):\n",
    "    \"\"\"\n",
    "    Creating train sequences and labels in a constant shape.\n",
    "    \n",
    "    Args:\n",
    "        texts (list(String)): all the texts files.\n",
    "        labels (list(numpy.array)): damaged matrices labels for all the documents.\n",
    "        tokenizer (keras.Tokenizer): a keras tokenizer trained on text.\n",
    "    \"\"\"\n",
    "    texts_and_labels = list(zip(texts[1:], labels[1:]))\n",
    "    X, y = create_X_and_y_set(texts[0].split(\"\\n\"), tokenizer, labels[0])\n",
    "    \n",
    "    for text, label in tqdm(texts_and_labels, desc=\"Creating train/test sets\"):\n",
    "        curr_X, curr_y = create_X_and_y_set(text.split(\"\\n\"), tokenizer, label)\n",
    "        X = np.vstack((X, curr_X))\n",
    "        y = np.vstack((y, curr_y))\n",
    "    return X, y"
   ]
  },
  {
   "cell_type": "code",
   "execution_count": 61,
   "metadata": {},
   "outputs": [
    {
     "name": "stderr",
     "output_type": "stream",
     "text": [
      "Creating train/test sets: 100%|██████████| 2754/2754 [04:33<00:00, 10.08it/s]\n"
     ]
    }
   ],
   "source": [
    "# converting the train set to constant shapes\n",
    "X_train_v1, y_train_v1 = create_models_sets(X_train.values, y_train.values, tokenizer)"
   ]
  },
  {
   "cell_type": "code",
   "execution_count": 62,
   "metadata": {},
   "outputs": [
    {
     "name": "stderr",
     "output_type": "stream",
     "text": [
      "Creating train/test sets: 100%|██████████| 400/400 [00:06<00:00, 58.79it/s] \n"
     ]
    }
   ],
   "source": [
    "# converting the test set to constant shapes\n",
    "X_test_v1, y_test_v1 = create_models_sets(X_test.values, y_train.values, tokenizer)"
   ]
  },
  {
   "cell_type": "code",
   "execution_count": 63,
   "metadata": {},
   "outputs": [
    {
     "name": "stderr",
     "output_type": "stream",
     "text": [
      "Creating train/test sets: 100%|██████████| 778/778 [00:23<00:00, 32.88it/s] \n"
     ]
    }
   ],
   "source": [
    "# converting the validation set to constant shapes\n",
    "X_validation_v1, y_validation_v1 = create_models_sets(X_validation.values, y_validation.values, tokenizer)"
   ]
  },
  {
   "cell_type": "markdown",
   "metadata": {},
   "source": [
    "#### Machine Learning Models\n",
    "---\n",
    "\n",
    "Next, we will use the following Machine Learning algorithms:\n",
    "\n",
    "1. RandomForestClassifier\n",
    "2. MLPClassifier\n",
    "3. DecisionTreeClassifier\n",
    "\n",
    "We will use the Machine-Learning models described above and do 5-cross-validation. In order to do hyperparameter tuning we will use GridSearchCV.\n",
    "\n",
    "GridSeachCV allows us to perform cross-validation while running the models with different parameters. The GridSeachCV saves the model with the best score under an attribute called bestestimator .\n",
    "\n",
    "Although GridSearch sounds like a good idea it may take a long time to run, since we are checking every possible combination. Sometimes it is better to use RandomizedSearchCV which selects a fraction of the possible combinations.\n",
    "\n",
    "We chose a sample of parameters for the models just to get a feeling of the results and metrics. The task of parameter choosing is a difficult one, most of the time you will not know what is the right parameters for a model."
   ]
  },
  {
   "cell_type": "code",
   "execution_count": 64,
   "metadata": {},
   "outputs": [],
   "source": [
    "model_params = {\n",
    "    'random_forest': {\n",
    "        'model': RandomForestClassifier(random_state=42),\n",
    "        'params' : {\n",
    "            'n_estimators': [100, 200],\n",
    "            'criterion': ['gini', 'entropy'],\n",
    "            'max_depth': [None, 100],\n",
    "        }  \n",
    "    },\n",
    "    'mlp' : {\n",
    "        'model': MLPClassifier(random_state=42),\n",
    "        'params': {\n",
    "            'solver': ['sgd', 'adam'],\n",
    "            'activation': ['logistic', 'relu'],\n",
    "        }\n",
    "    },\n",
    "    'decision_tree' : {\n",
    "        'model': DecisionTreeClassifier(random_state=42),\n",
    "        'params': {\n",
    "            'criterion': ['gini', 'entropy'],\n",
    "            'max_depth': [None, 100],\n",
    "        }\n",
    "    },\n",
    "}"
   ]
  },
  {
   "cell_type": "code",
   "execution_count": 135,
   "metadata": {},
   "outputs": [],
   "source": [
    "# Defining custom socrers for ML models\n",
    "\n",
    "def check_accuracy(y_true, y_pred):\n",
    "    correct = y_true == y_pred\n",
    "    denom = (correct.shape[0] * correct.shape[1]) if len(correct.shape) > 1 else correct.shape[0]\n",
    "    return float(correct.sum()) / denom\n",
    "\n",
    "def check_accuracy_round(y_true, y_pred):\n",
    "    return check_accuracy(y_true, y_pred.round())\n",
    "\n",
    "def check_precision_ml(y_true, y_pred):\n",
    "    y_pred_round = y_pred.round()\n",
    "    return precision_score(y_true.reshape(-1), y_pred_round.reshape(-1), pos_label=1)\n",
    "\n",
    "def check_recall_ml(y_true, y_pred):\n",
    "    y_pred_round = y_pred.round()\n",
    "    return recall_score(y_true.reshape(-1), y_pred_round.reshape(-1), pos_label=1)"
   ]
  },
  {
   "cell_type": "code",
   "execution_count": 130,
   "metadata": {},
   "outputs": [],
   "source": [
    "def get_metrics_df(y_true, y_pred):\n",
    "    scores = []\n",
    "    scores.append({\n",
    "        \"accuracy\": check_accuracy_round(y_true, y_pred),\n",
    "        \"precision\": check_precision_ml(y_true, y_pred),\n",
    "        \"recall\": check_recall_ml(y_true, y_pred)\n",
    "    })\n",
    "    \n",
    "    return pd.DataFrame(scores, columns=[\"accuracy\", \"precision\", \"recall\"])"
   ]
  },
  {
   "cell_type": "code",
   "execution_count": 66,
   "metadata": {},
   "outputs": [],
   "source": [
    "def get_models_and_scores(X_train, y_train, cv=3):\n",
    "    \"\"\"\n",
    "    Train different models based on different parameters on a train set.\n",
    "    \n",
    "    Args:\n",
    "        X_train (np.array): train set features the models train upon.\n",
    "        y_train (np.array): labels for the train set that the models train upon.\n",
    "        cv (int, default=3): cross-validation count.\n",
    "    \n",
    "    Returns:\n",
    "        1. The models that were trained in the function.\n",
    "        2. Scores and metrics given by the training process\n",
    "        3. Scores and metric in a form of a DataFrame.\n",
    "    \"\"\"\n",
    "    # saving each model scores in a list\n",
    "    scores = []\n",
    "    # saving each model in a list\n",
    "    models = []\n",
    "    # scores metrics for each model\n",
    "    scorers = {\n",
    "        'Accuracy': make_scorer(check_accuracy_round),\n",
    "        'Precision': make_scorer(check_precision_ml),\n",
    "        'Recall': make_scorer(check_recall_ml),\n",
    "    }\n",
    "\n",
    "    for model_name, mp in model_params.items():\n",
    "        # doing cross-validation GridSearch on each model\n",
    "        clf = GridSearchCV(mp['model'], mp['params'], scoring=scorers,refit=\"Accuracy\", cv=cv, n_jobs=-1, verbose=1)\n",
    "        clf.fit(X_train, y_train)\n",
    "        models.append(clf)\n",
    "        scores.append({\n",
    "            'model': model_name,\n",
    "            'best_accuracy': clf.best_score_,\n",
    "            'mean_precision': np.mean(clf.cv_results_[\"mean_test_Precision\"]),\n",
    "            'mean_recall': np.mean(clf.cv_results_[\"mean_test_Recall\"]),\n",
    "            'best_params': clf.best_params_,\n",
    "        })\n",
    "    # creating a DataFrame with the result  \n",
    "    scores_df = pd.DataFrame(scores,columns=['model','best_accuracy','mean_precision','mean_recall','best_params'])  \n",
    "    return models, scores, scores_df"
   ]
  },
  {
   "cell_type": "markdown",
   "metadata": {},
   "source": [
    "We will reshape the sets to 2d array, the rows will act as sentences and the columns as the terms in the sentences.<br>So all the sentences from all the documents will be stacked on each other.<br>\n",
    "So after reshaping the classification task acts like multi-label classification task, where each class is a term in a sentence."
   ]
  },
  {
   "cell_type": "code",
   "execution_count": 67,
   "metadata": {},
   "outputs": [],
   "source": [
    "X_train_v1_re = X_train_v1.reshape((-1, sentence_length))\n",
    "y_train_v1_re = y_train_v1.reshape((-1, sentence_length))\n",
    "\n",
    "X_validation_v1_re = X_validation_v1.reshape((-1, sentence_length))\n",
    "y_validation_v1_re = y_validation_v1.reshape((-1, sentence_length))\n",
    "\n",
    "X_test_v1_re = X_test_v1.reshape((-1, sentence_length))\n",
    "y_test_v1_re = y_test_v1.reshape((-1, sentence_length))"
   ]
  },
  {
   "cell_type": "code",
   "execution_count": 68,
   "metadata": {},
   "outputs": [
    {
     "name": "stdout",
     "output_type": "stream",
     "text": [
      "Fitting 3 folds for each of 8 candidates, totalling 24 fits\n"
     ]
    },
    {
     "name": "stderr",
     "output_type": "stream",
     "text": [
      "[Parallel(n_jobs=-1)]: Using backend LokyBackend with 8 concurrent workers.\n",
      "[Parallel(n_jobs=-1)]: Done  24 out of  24 | elapsed:    2.8s finished\n"
     ]
    },
    {
     "name": "stdout",
     "output_type": "stream",
     "text": [
      "Fitting 3 folds for each of 4 candidates, totalling 12 fits\n"
     ]
    },
    {
     "name": "stderr",
     "output_type": "stream",
     "text": [
      "[Parallel(n_jobs=-1)]: Using backend LokyBackend with 8 concurrent workers.\n",
      "[Parallel(n_jobs=-1)]: Done  10 out of  12 | elapsed:    0.3s remaining:    0.1s\n",
      "[Parallel(n_jobs=-1)]: Done  12 out of  12 | elapsed:    0.3s finished\n"
     ]
    },
    {
     "name": "stdout",
     "output_type": "stream",
     "text": [
      "Fitting 3 folds for each of 4 candidates, totalling 12 fits\n"
     ]
    },
    {
     "name": "stderr",
     "output_type": "stream",
     "text": [
      "/Users/roylevy/opt/anaconda3/envs/py36/lib/python3.6/site-packages/sklearn/neural_network/_multilayer_perceptron.py:571: ConvergenceWarning: Stochastic Optimizer: Maximum iterations (200) reached and the optimization hasn't converged yet.\n",
      "  % self.max_iter, ConvergenceWarning)\n",
      "[Parallel(n_jobs=-1)]: Using backend LokyBackend with 8 concurrent workers.\n",
      "[Parallel(n_jobs=-1)]: Done  10 out of  12 | elapsed:    0.0s remaining:    0.0s\n",
      "[Parallel(n_jobs=-1)]: Done  12 out of  12 | elapsed:    0.0s finished\n"
     ]
    }
   ],
   "source": [
    "models_train_v1, scores_train_v1, scores_train_df_v1 = get_models_and_scores(X_train_v1_re, y_train_v1_re)"
   ]
  },
  {
   "cell_type": "code",
   "execution_count": 69,
   "metadata": {
    "scrolled": false
   },
   "outputs": [
    {
     "data": {
      "text/html": [
       "<div>\n",
       "<style scoped>\n",
       "    .dataframe tbody tr th:only-of-type {\n",
       "        vertical-align: middle;\n",
       "    }\n",
       "\n",
       "    .dataframe tbody tr th {\n",
       "        vertical-align: top;\n",
       "    }\n",
       "\n",
       "    .dataframe thead th {\n",
       "        text-align: right;\n",
       "    }\n",
       "</style>\n",
       "<table border=\"1\" class=\"dataframe\">\n",
       "  <thead>\n",
       "    <tr style=\"text-align: right;\">\n",
       "      <th></th>\n",
       "      <th>model</th>\n",
       "      <th>best_accuracy</th>\n",
       "      <th>mean_precision</th>\n",
       "      <th>mean_recall</th>\n",
       "      <th>best_params</th>\n",
       "    </tr>\n",
       "  </thead>\n",
       "  <tbody>\n",
       "    <tr>\n",
       "      <th>0</th>\n",
       "      <td>random_forest</td>\n",
       "      <td>0.994843</td>\n",
       "      <td>0.00000</td>\n",
       "      <td>0.000000</td>\n",
       "      <td>{'criterion': 'entropy', 'max_depth': None, 'n...</td>\n",
       "    </tr>\n",
       "    <tr>\n",
       "      <th>1</th>\n",
       "      <td>mlp</td>\n",
       "      <td>0.994843</td>\n",
       "      <td>0.00439</td>\n",
       "      <td>0.027083</td>\n",
       "      <td>{'activation': 'logistic', 'solver': 'sgd'}</td>\n",
       "    </tr>\n",
       "    <tr>\n",
       "      <th>2</th>\n",
       "      <td>decision_tree</td>\n",
       "      <td>0.989477</td>\n",
       "      <td>0.00000</td>\n",
       "      <td>0.000000</td>\n",
       "      <td>{'criterion': 'entropy', 'max_depth': None}</td>\n",
       "    </tr>\n",
       "  </tbody>\n",
       "</table>\n",
       "</div>"
      ],
      "text/plain": [
       "           model  best_accuracy  mean_precision  mean_recall  \\\n",
       "0  random_forest       0.994843         0.00000     0.000000   \n",
       "1            mlp       0.994843         0.00439     0.027083   \n",
       "2  decision_tree       0.989477         0.00000     0.000000   \n",
       "\n",
       "                                         best_params  \n",
       "0  {'criterion': 'entropy', 'max_depth': None, 'n...  \n",
       "1        {'activation': 'logistic', 'solver': 'sgd'}  \n",
       "2        {'criterion': 'entropy', 'max_depth': None}  "
      ]
     },
     "execution_count": 69,
     "metadata": {},
     "output_type": "execute_result"
    }
   ],
   "source": [
    "scores_train_df_v1"
   ]
  },
  {
   "cell_type": "code",
   "execution_count": 70,
   "metadata": {},
   "outputs": [],
   "source": [
    "best_model_v1 = models_train_v1[0].best_estimator_\n",
    "model_name = scores_train_df_v1[\"model\"][0]\n",
    "preds_v1 = best_model_v1.predict(X_test_v1_re)"
   ]
  },
  {
   "cell_type": "code",
   "execution_count": 71,
   "metadata": {
    "scrolled": true
   },
   "outputs": [
    {
     "name": "stdout",
     "output_type": "stream",
     "text": [
      "Classification Report for random_forest - Test Set\n",
      "              precision    recall  f1-score   support\n",
      "\n",
      "         0.0       0.98      1.00      0.99   3947824\n",
      "         1.0       0.19      0.00      0.00     62176\n",
      "\n",
      "    accuracy                           0.98   4010000\n",
      "   macro avg       0.59      0.50      0.50   4010000\n",
      "weighted avg       0.97      0.98      0.98   4010000\n",
      "\n"
     ]
    }
   ],
   "source": [
    "print(f\"Classification Report for {model_name} - Test Set\")\n",
    "print(classification_report(y_test_v1_re.reshape(-1), preds_v1.reshape(-1)))"
   ]
  },
  {
   "cell_type": "code",
   "execution_count": 72,
   "metadata": {},
   "outputs": [
    {
     "name": "stdout",
     "output_type": "stream",
     "text": [
      "Classification Report for random_forest - Validation Set\n",
      "              precision    recall  f1-score   support\n",
      "\n",
      "         0.0       0.98      1.00      0.99   7669070\n",
      "         1.0       0.09      0.00      0.00    120930\n",
      "\n",
      "    accuracy                           0.98   7790000\n",
      "   macro avg       0.54      0.50      0.50   7790000\n",
      "weighted avg       0.97      0.98      0.98   7790000\n",
      "\n"
     ]
    }
   ],
   "source": [
    "preds_v1_val = best_model_v1.predict(X_validation_v1_re)\n",
    "print(f\"Classification Report for {model_name} - Validation Set\")\n",
    "print(classification_report(y_validation_v1_re.reshape(-1), preds_v1_val.reshape(-1)))"
   ]
  },
  {
   "cell_type": "markdown",
   "metadata": {},
   "source": [
    "Our best ML model is RandomForrest.<br>\n",
    "As we can see from the classfications reports and the scores dataframe, the model performed very well on the labels that contained 0 but not so well on the labels that contained 1, this means that the model is not classifying most of the errors.<br>\n",
    "We were able to notice this due to the use of **precision** & **recall**.<br>\n",
    "We can see that the **accuracy score** is not indicative since our classes are unbalanced (most of the labels are 0).<br><br>\n",
    "In order to increase our precision and recall we will create a better model using Deep Learning techniques."
   ]
  },
  {
   "cell_type": "markdown",
   "metadata": {},
   "source": [
    "#### Deep Learning Model\n",
    "---\n",
    "By now we saw that the simple Machine Learning models are not able to detect the erros in the text so we need to use some \"bigger guns\".<br>\n",
    "We will create a quite simple **RNN** using **Word Embeddings**. This network architecture will allow the model to understand the semantic meaning (context) between the terms in the text. Understanding the context is crushial in order to detect what word contains an error and what word isn't.<br><br>\n",
    "\n",
    "In the following sections we will explain and review the steps we have made in order to reach better results."
   ]
  },
  {
   "cell_type": "markdown",
   "metadata": {},
   "source": [
    "###### Metrics & Callbacks\n",
    "---\n",
    "As we saw before, **accuracy** is not a good metric when the classes are imbalanced. Since our data contains mostly zeros it is good to use another types of metrics. We've decided to **precision** and **recall** as our main metrics in order to evaluate the model during the training phase, we also monitered the **confusion matrix**(TP, TN, FP, FN).<br><br>\n",
    "In order to monitor these metrics at each phase we had to define a **custom callback**: at each end of epoch we will calculate and print the relavant metrics to the screen."
   ]
  },
  {
   "cell_type": "code",
   "execution_count": 73,
   "metadata": {},
   "outputs": [],
   "source": [
    "class Metrics(keras.callbacks.Callback):\n",
    "    def on_train_begin(self, logs={}):\n",
    "        self._data = []\n",
    "\n",
    "    def on_epoch_end(self, batch, logs={}):\n",
    "        X_val, y_val = self.validation_data[0], self.validation_data[1]\n",
    "        y_predict = np.asarray(model.predict(X_val))\n",
    "        mat = confusion_matrix(np.squeeze(y_val).reshape(-1), np.squeeze(y_predict.round()).reshape(-1))\n",
    "        perc=(mat[1][1])/(mat[1][1]+mat[0][1] + 0.00001)\n",
    "        reco=(mat[1][1])/(mat[1][1]+mat[1][0] + 0.00001)\n",
    "        print(f\"percision_bar = {float(perc)}\")\n",
    "        print(f\"recall_bar = {float(reco)}\")\n",
    "        print(f\"True positive = {mat[1][1]}\")\n",
    "        print(f\"True negative = {mat[0][0]}\")\n",
    "        print(f\"False positive = {mat[0][1]}\")\n",
    "        print(f\"False negative = {mat[1][0]}\")\n",
    "\n",
    "    def get_data(self):\n",
    "        return self._data"
   ]
  },
  {
   "cell_type": "markdown",
   "metadata": {},
   "source": [
    "We defined the following callbacks in order to further our monitoring during the training phase, this allowed us to gain a better understanding on how the model behaves and optimize it.<br>\n",
    "The callbacks we defined are the following:\n",
    "\n",
    "1. **Model Checkpoint** - allow us to save the best weights of the model so we don't have retrain again (the training process takes a long time).\n",
    "2. **EarlyStopping** - stops training the model the validation loss not decreasing after certain amount of ephocs (save us time in the training process).\n",
    "3. **ReduceLROnPlateau** - reduces the learning rate when we reach local minimum, tries to find the global minimum so the network converges.\n",
    "4. **Metrics** - our custom metrics callback we defined earlier."
   ]
  },
  {
   "cell_type": "code",
   "execution_count": 74,
   "metadata": {},
   "outputs": [],
   "source": [
    "checkpoint = ModelCheckpoint(\"./models/try1\"+\"_weights.{epoch:02d}-{val_loss:.5f}.hdf5\",save_best_only=False,monitor='val_loss')\n",
    "earlystopping = EarlyStopping(monitor='val_loss' ,patience=5, restore_best_weights=False, verbose=1, mode='min')\n",
    "reduce_lr = ReduceLROnPlateau(monitor='val_loss', factor=0.5, patience=2, verbose=1, min_delta=0.001, mode='min', min_lr=1e-6)\n",
    "metrics_bar = Metrics()\n",
    "\n",
    "callbacks = [earlystopping, reduce_lr, checkpoint, metrics_bar]"
   ]
  },
  {
   "cell_type": "markdown",
   "metadata": {},
   "source": [
    "###### Loss Function\n",
    "---\n",
    "In order that our network will truly learn we must define a proper loss function, so the network can adjust the weights at each end of an epoch. After examining various types of built in loss functions we have decided to create a **custom loss function** because the other ones not gave us exactly what we seached for.<br><br>\n",
    "We decided to go with a modification of the loss function **binary crossentropy** by adding a custom weight to the function.<br>\n",
    "The idea is that the loss function will \"punish\" the network by a cetrain weight if the prediction is not correct (if the false-positive/false-negative as occured)."
   ]
  },
  {
   "cell_type": "code",
   "execution_count": 75,
   "metadata": {},
   "outputs": [],
   "source": [
    "def weighted_binary_crossentropy_v1(w1, w2):\n",
    "    def loss(y_true, y_pred):\n",
    "        y_true = K.clip(y_true, K.epsilon(), 1-K.epsilon())\n",
    "        y_pred = K.clip(y_pred, K.epsilon(), 1-K.epsilon())\n",
    "        logloss = -(y_true * K.log(y_pred) * w1 + (1 - y_true) * K.log(1 - y_pred) * w2 )\n",
    "        return K.mean( logloss, axis=-1)\n",
    "\n",
    "    return loss"
   ]
  },
  {
   "cell_type": "code",
   "execution_count": 76,
   "metadata": {},
   "outputs": [],
   "source": [
    "# hyperparameters for the model\n",
    "hidden_size = 100\n",
    "units_lstm = 125\n",
    "units_lstm_1 = 25"
   ]
  },
  {
   "cell_type": "markdown",
   "metadata": {},
   "source": [
    "Finally we can define our network, a quite simple RNN which consist mainly on WordEmbedding and LSTM. Notice how gave the last layer the activation function **sigmoid** this tells the network that each entry in the predicted vectors can be values between 0 to 1 (we will round these values later)."
   ]
  },
  {
   "cell_type": "code",
   "execution_count": 77,
   "metadata": {
    "scrolled": true
   },
   "outputs": [
    {
     "name": "stdout",
     "output_type": "stream",
     "text": [
      "Model: \"sequential_1\"\n",
      "_________________________________________________________________\n",
      "Layer (type)                 Output Shape              Param #   \n",
      "=================================================================\n",
      "embedding_1 (Embedding)      (None, 50, 100)           13742200  \n",
      "_________________________________________________________________\n",
      "lstm_1 (LSTM)                (None, 50, 125)           113000    \n",
      "_________________________________________________________________\n",
      "lstm_2 (LSTM)                (None, 50, 125)           125500    \n",
      "_________________________________________________________________\n",
      "lstm_3 (LSTM)                (None, 50, 125)           125500    \n",
      "_________________________________________________________________\n",
      "dropout_1 (Dropout)          (None, 50, 125)           0         \n",
      "_________________________________________________________________\n",
      "time_distributed_1 (TimeDist (None, 50, 1)             126       \n",
      "=================================================================\n",
      "Total params: 14,106,326\n",
      "Trainable params: 364,126\n",
      "Non-trainable params: 13,742,200\n",
      "_________________________________________________________________\n",
      "None\n"
     ]
    }
   ],
   "source": [
    "model = Sequential()\n",
    "model.add(Embedding(input_dim=vocab_size, output_dim=hidden_size, input_length=sentence_length, trainable=False))\n",
    "model.add(LSTM(units=units_lstm, return_sequences=True))\n",
    "model.add(LSTM(units=units_lstm, return_sequences=True))\n",
    "model.add(LSTM(units=units_lstm, return_sequences=True))\n",
    "model.add(Dropout(0.2))\n",
    "model.add(TimeDistributed(Dense(1, activation=\"sigmoid\")))\n",
    "print(model.summary())"
   ]
  },
  {
   "cell_type": "code",
   "execution_count": 78,
   "metadata": {},
   "outputs": [],
   "source": [
    "# defining an optimizer\n",
    "opt = Nadam(learning_rate=0.01)"
   ]
  },
  {
   "cell_type": "code",
   "execution_count": 220,
   "metadata": {},
   "outputs": [],
   "source": [
    "# compiling the model\n",
    "model.compile(opt, loss=weighted_binary_crossentropy_v1(3, 1), metrics=[\"accuracy\"])"
   ]
  },
  {
   "cell_type": "code",
   "execution_count": 79,
   "metadata": {},
   "outputs": [],
   "source": [
    "# reshaping the lables\n",
    "shaped_y_train_v1_re = np.expand_dims(y_train_v1_re, axis=2)\n",
    "shaped_y_validation_v1_re = np.expand_dims(y_validation_v1_re, axis=2)"
   ]
  },
  {
   "cell_type": "code",
   "execution_count": 223,
   "metadata": {
    "scrolled": true
   },
   "outputs": [
    {
     "name": "stdout",
     "output_type": "stream",
     "text": [
      "Train on 551000 samples, validate on 155800 samples\n",
      "Epoch 1/25\n",
      "551000/551000 [==============================] - 539s 979us/step - loss: 0.0385 - accuracy: 0.9952 - val_loss: 0.0307 - val_accuracy: 0.9961\n",
      "percision_bar = 0.9109130158827825\n",
      "recall_bar = 0.8232820607009442\n",
      "True positive = 97894\n",
      "True negative = 7661519\n",
      "False positive = 9574\n",
      "False negative = 21013\n",
      "Epoch 2/25\n",
      "551000/551000 [==============================] - 530s 962us/step - loss: 0.0298 - accuracy: 0.9962 - val_loss: 0.0282 - val_accuracy: 0.9964\n",
      "percision_bar = 0.9235474290828355\n",
      "recall_bar = 0.8317340441831235\n",
      "True positive = 98899\n",
      "True negative = 7662906\n",
      "False positive = 8187\n",
      "False negative = 20008\n",
      "Epoch 3/25\n",
      "551000/551000 [==============================] - 531s 963us/step - loss: 0.0279 - accuracy: 0.9963 - val_loss: 0.0275 - val_accuracy: 0.9963\n",
      "percision_bar = 0.9145883970727274\n",
      "recall_bar = 0.838579730306998\n",
      "True positive = 99713\n",
      "True negative = 7661781\n",
      "False positive = 9312\n",
      "False negative = 19194\n",
      "Epoch 4/25\n",
      "551000/551000 [==============================] - 530s 961us/step - loss: 0.0403 - accuracy: 0.9950 - val_loss: 0.0405 - val_accuracy: 0.9951\n",
      "\n",
      "Epoch 00004: ReduceLROnPlateau reducing learning rate to 0.004999999888241291.\n",
      "percision_bar = 0.8824489330383536\n",
      "recall_bar = 0.7822163538915105\n",
      "True positive = 93011\n",
      "True negative = 7658703\n",
      "False positive = 12390\n",
      "False negative = 25896\n",
      "Epoch 5/25\n",
      "551000/551000 [==============================] - 536s 973us/step - loss: 0.0355 - accuracy: 0.9957 - val_loss: 0.0336 - val_accuracy: 0.9959\n",
      "percision_bar = 0.9177515757084846\n",
      "recall_bar = 0.8044942685624484\n",
      "True positive = 95660\n",
      "True negative = 7662520\n",
      "False positive = 8573\n",
      "False negative = 23247\n",
      "Epoch 6/25\n",
      "551000/551000 [==============================] - 537s 975us/step - loss: 0.0329 - accuracy: 0.9960 - val_loss: 0.0313 - val_accuracy: 0.9961\n",
      "\n",
      "Epoch 00006: ReduceLROnPlateau reducing learning rate to 0.0024999999441206455.\n",
      "percision_bar = 0.916195590642906\n",
      "recall_bar = 0.8178240136562335\n",
      "True positive = 97245\n",
      "True negative = 7662198\n",
      "False positive = 8895\n",
      "False negative = 21662\n",
      "Epoch 7/25\n",
      "551000/551000 [==============================] - 536s 973us/step - loss: 0.0292 - accuracy: 0.9962 - val_loss: 0.0280 - val_accuracy: 0.9963\n",
      "percision_bar = 0.9171514988098423\n",
      "recall_bar = 0.8338953971730936\n",
      "True positive = 99156\n",
      "True negative = 7662136\n",
      "False positive = 8957\n",
      "False negative = 19751\n",
      "Epoch 8/25\n",
      "551000/551000 [==============================] - 536s 973us/step - loss: 0.0268 - accuracy: 0.9964 - val_loss: 0.0270 - val_accuracy: 0.9964\n",
      "percision_bar = 0.9207934512619836\n",
      "recall_bar = 0.8381592336163423\n",
      "True positive = 99663\n",
      "True negative = 7662520\n",
      "False positive = 8573\n",
      "False negative = 19244\n",
      "Epoch 9/25\n",
      "551000/551000 [==============================] - 535s 971us/step - loss: 0.0282 - accuracy: 0.9963 - val_loss: 0.0305 - val_accuracy: 0.9962\n",
      "percision_bar = 0.9250328676976323\n",
      "recall_bar = 0.8165793434518926\n",
      "True positive = 97097\n",
      "True negative = 7663224\n",
      "False positive = 7869\n",
      "False negative = 21810\n",
      "Epoch 10/25\n",
      "551000/551000 [==============================] - 536s 973us/step - loss: 0.0278 - accuracy: 0.9963 - val_loss: 0.0281 - val_accuracy: 0.9963\n",
      "\n",
      "Epoch 00010: ReduceLROnPlateau reducing learning rate to 0.0012499999720603228.\n",
      "percision_bar = 0.9223660233684655\n",
      "recall_bar = 0.8301193368910056\n",
      "True positive = 98707\n",
      "True negative = 7662785\n",
      "False positive = 8308\n",
      "False negative = 20200\n",
      "Epoch 11/25\n",
      "551000/551000 [==============================] - 538s 976us/step - loss: 0.0266 - accuracy: 0.9964 - val_loss: 0.0277 - val_accuracy: 0.9964\n",
      "percision_bar = 0.9223799989829713\n",
      "recall_bar = 0.8330796335932216\n",
      "True positive = 99059\n",
      "True negative = 7662757\n",
      "False positive = 8336\n",
      "False negative = 19848\n",
      "Epoch 12/25\n",
      "551000/551000 [==============================] - 538s 976us/step - loss: 0.0259 - accuracy: 0.9965 - val_loss: 0.0275 - val_accuracy: 0.9964\n",
      "\n",
      "Epoch 00012: ReduceLROnPlateau reducing learning rate to 0.0006249999860301614.\n",
      "percision_bar = 0.9200196270002018\n",
      "recall_bar = 0.8357371726781655\n",
      "True positive = 99375\n",
      "True negative = 7662454\n",
      "False positive = 8639\n",
      "False negative = 19532\n",
      "Epoch 13/25\n",
      "551000/551000 [==============================] - 536s 972us/step - loss: 0.0254 - accuracy: 0.9965 - val_loss: 0.0271 - val_accuracy: 0.9965\n",
      "percision_bar = 0.9241433136731451\n",
      "recall_bar = 0.8364520170522801\n",
      "True positive = 99460\n",
      "True negative = 7662929\n",
      "False positive = 8164\n",
      "False negative = 19447\n",
      "Epoch 14/25\n",
      "551000/551000 [==============================] - 535s 970us/step - loss: 0.0250 - accuracy: 0.9965 - val_loss: 0.0269 - val_accuracy: 0.9964\n",
      "\n",
      "Epoch 00014: ReduceLROnPlateau reducing learning rate to 0.0003124999930150807.\n",
      "percision_bar = 0.921930401047785\n",
      "recall_bar = 0.8375116687127325\n",
      "True positive = 99586\n",
      "True negative = 7662660\n",
      "False positive = 8433\n",
      "False negative = 19321\n",
      "Epoch 15/25\n",
      "551000/551000 [==============================] - 533s 967us/step - loss: 0.0247 - accuracy: 0.9966 - val_loss: 0.0270 - val_accuracy: 0.9965\n",
      "percision_bar = 0.9230640930937385\n",
      "recall_bar = 0.8377807865947521\n",
      "True positive = 99618\n",
      "True negative = 7662790\n",
      "False positive = 8303\n",
      "False negative = 19289\n",
      "Epoch 16/25\n",
      "551000/551000 [==============================] - 536s 972us/step - loss: 0.0246 - accuracy: 0.9966 - val_loss: 0.0270 - val_accuracy: 0.9965\n",
      "\n",
      "Epoch 00016: ReduceLROnPlateau reducing learning rate to 0.00015624999650754035.\n",
      "percision_bar = 0.9239495719448978\n",
      "recall_bar = 0.8370070726839457\n",
      "True positive = 99526\n",
      "True negative = 7662901\n",
      "False positive = 8192\n",
      "False negative = 19381\n",
      "Epoch 17/25\n",
      "551000/551000 [==============================] - 536s 974us/step - loss: 0.0245 - accuracy: 0.9966 - val_loss: 0.0271 - val_accuracy: 0.9965\n",
      "percision_bar = 0.9230106370294827\n",
      "recall_bar = 0.8377555567933128\n",
      "True positive = 99615\n",
      "True negative = 7662784\n",
      "False positive = 8309\n",
      "False negative = 19292\n",
      "Epoch 18/25\n",
      "551000/551000 [==============================] - 535s 971us/step - loss: 0.0245 - accuracy: 0.9966 - val_loss: 0.0271 - val_accuracy: 0.9965\n",
      "\n",
      "Epoch 00018: ReduceLROnPlateau reducing learning rate to 7.812499825377017e-05.\n",
      "percision_bar = 0.9225072437423042\n",
      "recall_bar = 0.838066724344398\n",
      "True positive = 99652\n",
      "True negative = 7662722\n",
      "False positive = 8371\n",
      "False negative = 19255\n",
      "Epoch 19/25\n",
      "551000/551000 [==============================] - 534s 969us/step - loss: 0.0244 - accuracy: 0.9966 - val_loss: 0.0271 - val_accuracy: 0.9965\n",
      "percision_bar = 0.9235091752896795\n",
      "recall_bar = 0.8375789481832374\n",
      "True positive = 99594\n",
      "True negative = 7662844\n",
      "False positive = 8249\n",
      "False negative = 19313\n",
      "Epoch 20/25\n",
      "551000/551000 [==============================] - 533s 967us/step - loss: 0.0243 - accuracy: 0.9966 - val_loss: 0.0271 - val_accuracy: 0.9965\n",
      "\n",
      "Epoch 00020: ReduceLROnPlateau reducing learning rate to 3.9062499126885086e-05.\n",
      "percision_bar = 0.9226060947540483\n",
      "recall_bar = 0.8379237554695751\n",
      "True positive = 99635\n",
      "True negative = 7662735\n",
      "False positive = 8358\n",
      "False negative = 19272\n",
      "Epoch 21/25\n",
      "551000/551000 [==============================] - 533s 968us/step - loss: 0.0243 - accuracy: 0.9966 - val_loss: 0.0272 - val_accuracy: 0.9965\n",
      "percision_bar = 0.9230092102701016\n",
      "recall_bar = 0.8377387369256866\n",
      "True positive = 99613\n",
      "True negative = 7662784\n",
      "False positive = 8309\n",
      "False negative = 19294\n",
      "Epoch 22/25\n",
      "551000/551000 [==============================] - 535s 970us/step - loss: 0.0243 - accuracy: 0.9966 - val_loss: 0.0271 - val_accuracy: 0.9964\n",
      "\n",
      "Epoch 00022: ReduceLROnPlateau reducing learning rate to 1.9531249563442543e-05.\n",
      "percision_bar = 0.9224579370030966\n",
      "recall_bar = 0.8377891965285652\n",
      "True positive = 99619\n",
      "True negative = 7662719\n",
      "False positive = 8374\n",
      "False negative = 19288\n",
      "Epoch 23/25\n",
      "551000/551000 [==============================] - 532s 965us/step - loss: 0.0243 - accuracy: 0.9966 - val_loss: 0.0272 - val_accuracy: 0.9965\n",
      "percision_bar = 0.9228738431611095\n",
      "recall_bar = 0.8378564759990701\n",
      "True positive = 99627\n",
      "True negative = 7662767\n",
      "False positive = 8326\n",
      "False negative = 19280\n",
      "Epoch 24/25\n",
      "551000/551000 [==============================] - 531s 963us/step - loss: 0.0243 - accuracy: 0.9966 - val_loss: 0.0271 - val_accuracy: 0.9965\n",
      "\n",
      "Epoch 00024: ReduceLROnPlateau reducing learning rate to 9.765624781721272e-06.\n",
      "percision_bar = 0.9233407806907264\n",
      "recall_bar = 0.8376125879184898\n",
      "True positive = 99598\n",
      "True negative = 7662824\n",
      "False positive = 8269\n",
      "False negative = 19309\n",
      "Epoch 25/25\n",
      "551000/551000 [==============================] - 532s 965us/step - loss: 0.0243 - accuracy: 0.9966 - val_loss: 0.0272 - val_accuracy: 0.9965\n",
      "percision_bar = 0.9227990217019787\n",
      "recall_bar = 0.8377807865947521\n",
      "True positive = 99618\n",
      "True negative = 7662759\n",
      "False positive = 8334\n",
      "False negative = 19289\n",
      "Epoch 00025: early stopping\n"
     ]
    },
    {
     "data": {
      "text/plain": [
       "<keras.callbacks.callbacks.History at 0x2518af62f08>"
      ]
     },
     "execution_count": 223,
     "metadata": {},
     "output_type": "execute_result"
    }
   ],
   "source": [
    "# training the model\n",
    "model.fit(x=X_train_v1_re, y=shaped_y_train_v1_re, validation_data=(X_validation_v1_re, shaped_y_validation_v1_re), batch_size=128, epochs=25, callbacks=callbacks)"
   ]
  },
  {
   "cell_type": "code",
   "execution_count": 82,
   "metadata": {},
   "outputs": [],
   "source": [
    "# loading the model from previous weights\n",
    "model = keras.models.load_model(\"./models/try1_weights.20-0.02713.hdf5\", custom_objects={ 'loss': weighted_binary_crossentropy_v1(3, 1)})"
   ]
  },
  {
   "cell_type": "markdown",
   "metadata": {},
   "source": [
    "We will take a fraction from the test set because the prediction can take a-lot of time."
   ]
  },
  {
   "cell_type": "code",
   "execution_count": 128,
   "metadata": {},
   "outputs": [],
   "source": [
    "y_pred_dl = model.predict(X_test_v1_re[:10000])"
   ]
  },
  {
   "cell_type": "code",
   "execution_count": 129,
   "metadata": {},
   "outputs": [
    {
     "name": "stdout",
     "output_type": "stream",
     "text": [
      "Classification Report for Deep Learning Model - Test Set\n",
      "              precision    recall  f1-score   support\n",
      "\n",
      "         0.0       0.98      0.99      0.99    491140\n",
      "         1.0       0.03      0.02      0.03      8860\n",
      "\n",
      "    accuracy                           0.97    500000\n",
      "   macro avg       0.51      0.50      0.51    500000\n",
      "weighted avg       0.97      0.97      0.97    500000\n",
      "\n"
     ]
    }
   ],
   "source": [
    "print(f\"Classification Report for Deep Learning Model - Test Set\")\n",
    "print(classification_report(y_test_v1_re[:10000].reshape(-1), y_pred_dl.round().reshape(-1)))"
   ]
  },
  {
   "cell_type": "markdown",
   "metadata": {},
   "source": [
    "We can see that the precision and the recall are not high as the validation set dictates. This can be because we took a fraction of the test to predict upon. Later on we will see that our model is quite good actually and these results are not proper metric to measure the accuracy."
   ]
  },
  {
   "cell_type": "markdown",
   "metadata": {},
   "source": [
    "##### Predicting on DOCX files\n",
    "---\n",
    "So now after we trained the model it is time to use it on the DOCX files.<br>\n",
    "First, we will load all the files into a DataFrame and perform the save preprocessing steps as on the other text files."
   ]
  },
  {
   "cell_type": "code",
   "execution_count": 84,
   "metadata": {},
   "outputs": [],
   "source": [
    "def create_docx_df(docx_path):\n",
    "    \"\"\"\n",
    "    Args:\n",
    "        docx_path - path the the dir where all the docx file located\n",
    "    \n",
    "    Return:\n",
    "        docx_df - This is data frame contains all the docx files texts and their laws id.\n",
    "    \"\"\"\n",
    "    docx_texts = []\n",
    "    file_names = os.listdir(docx_path)\n",
    "    \n",
    "    for file_name in tqdm(file_names, desc=\"Reading DOCX\"):\n",
    "        law_id = file_name.split(\".\")[0]\n",
    "        try:\n",
    "            law_docx_path = f'{docx_path}/{file_name}'\n",
    "            law_docx_text = get_law_docx_text(law_docx_path)\n",
    "            \n",
    "            docx_texts.append({\n",
    "                \"law_id\": law_id,\n",
    "                \"law_docx_text\": law_docx_text,\n",
    "            })\n",
    "        except Exception as e:\n",
    "            pass\n",
    "        \n",
    "    law_docx_df = pd.DataFrame(docx_texts, columns=[\"law_id\", \"law_docx_text\"])\n",
    "    return law_docx_df"
   ]
  },
  {
   "cell_type": "code",
   "execution_count": 85,
   "metadata": {},
   "outputs": [
    {
     "name": "stderr",
     "output_type": "stream",
     "text": [
      "Reading DOCX: 100%|██████████| 3888/3888 [00:21<00:00, 182.00it/s]\n"
     ]
    }
   ],
   "source": [
    "# creating a dataframe from DOCX files\n",
    "docx_df = create_docx_df(docx_path)"
   ]
  },
  {
   "cell_type": "code",
   "execution_count": 86,
   "metadata": {},
   "outputs": [],
   "source": [
    "# preprocessing the DOCX files\n",
    "law_docx_df_clean = preprocess_text(docx_df, text_column_name=\"law_docx_text\")"
   ]
  },
  {
   "cell_type": "code",
   "execution_count": 87,
   "metadata": {},
   "outputs": [
    {
     "name": "stdout",
     "output_type": "stream",
     "text": [
      "01 ספר החוקים 207 כ״ו באב התשי״ו 03 . 08 . 1956\n",
      "* נתקבל בכנסת ביום י״ז באב תשט״ז ( 25 ביולי 1956 ) ; הצעת החוק ודברי הסבר נתפרסמו\n",
      "בה״ח 278 , תשט״ז , עמ׳ 163 .\n",
      "1 ס״ח ת190 , תשט״ו עמ׳ 242 .\n",
      "לוי אשכול\n",
      "שר האוצר\n",
      "דוד בן - גוריון\n",
      "ראש הממשלה\n",
      "יצחק בן - צבי\n",
      "נשיא המדינה\n",
      "תיקון החוק\n",
      "1 . בסעיף 1 לחוק בנק ישראל ( הוראת שעה ) ׳ תשט״ו - 1955 1 , במקום ״ כ ״ ו באב תשט״ז\n",
      "0 : באוגוסט 1956 ) ״ יבוא ״ ב׳ באדר א׳ תשי״ז ( 3 בפברואר 1957 ) ״ .\n",
      "מספר 59\n",
      "חוק בנק ישראל ( הוראת שעה ) ( תיקון מס׳ 2 ) , תשט״ז - 1956 *\n"
     ]
    }
   ],
   "source": [
    "print(law_docx_df_clean[\"law_docx_text\"][0])"
   ]
  },
  {
   "cell_type": "markdown",
   "metadata": {},
   "source": [
    "The next step is to transform the data into a proper shape in order to feed to our model.<br>\n",
    "We will note that a document can contain more than 200 sentences, which is the maximun amount of sentences we defined earlier for a document. Since we will to predict on all the data a document can span on more than one batches. For example: let's say we have a document with 300 sentences, it will span on 2 batches at a length of 200 (the other sentences will be padded). Our job is also to map the batches back to the relevant files."
   ]
  },
  {
   "cell_type": "code",
   "execution_count": 88,
   "metadata": {},
   "outputs": [],
   "source": [
    "def create_batch_size_matrices(docx_law_to_lines, tokenizer):\n",
    "    \"\"\"\n",
    "    Args: \n",
    "        docx_law_to_lines - The law text file splited into lines\n",
    "        tokenizer - Use to convert the text file words to tokens (with the same dictionary)\n",
    "\n",
    "    Return: \n",
    "        X - Array of matrices which each matrix is in the size of (batch_size, sentence_length)\n",
    "    \"\"\"\n",
    "\n",
    "    text_len = len(docx_law_to_lines)\n",
    "    index = 0\n",
    "\n",
    "    X = []\n",
    "\n",
    "    while True:\n",
    "        if text_len > batch_size:\n",
    "            mat = create_batch_matrix_X(docx_law_to_lines[batch_size * index:batch_size * (index + 1)], tokenizer)\n",
    "            X.append(mat)\n",
    "            text_len -= batch_size\n",
    "            index += 1\n",
    "        else:\n",
    "            mat = create_batch_matrix_X(docx_law_to_lines[batch_size * index:len(docx_law_to_lines)], tokenizer)\n",
    "            X.append(mat)\n",
    "            break\n",
    "\n",
    "    return np.array(X)"
   ]
  },
  {
   "cell_type": "code",
   "execution_count": 89,
   "metadata": {},
   "outputs": [],
   "source": [
    "\"\"\"\n",
    "    params: \n",
    "         text - the text of the file\n",
    "         tokenizer - Use to tokenize each sentence.\n",
    "    return: \n",
    "        return matrix X of (batch_size, sentence_length) with padding to the sentences.\n",
    "\"\"\"\n",
    "def create_batch_matrix_X(text, tokenizer):\n",
    "    mat_x = np.zeros((batch_size, sentence_length))\n",
    "\n",
    "    for i, line in enumerate(text):\n",
    "        line = re.sub('\\t\\n', '', line)\n",
    "        line_seq = tokenizer.texts_to_sequences([line])\n",
    "        line_seq = pad_sequences(line_seq, maxlen=sentence_length, padding='post')\n",
    "        mat_x[i] = np.array(line_seq[0], dtype=int)\n",
    "\n",
    "    return mat_x"
   ]
  },
  {
   "cell_type": "code",
   "execution_count": 90,
   "metadata": {},
   "outputs": [],
   "source": [
    "def prepare_data_to_predict(docx_df):\n",
    "    \"\"\"\n",
    "    Args:\n",
    "        docx_df - docx data frame, contains all the docx texts.\n",
    "    \n",
    "    Return:\n",
    "        docx_files_num_of_batches - list of all the docx text file number of batchs to each text.\n",
    "        Each text can be splited into more than one batch size.\n",
    "        docx_batch_matrices - list of all texts files splited into batch size matrices.\n",
    "    \"\"\"\n",
    "    docx_files_num_of_batches = []\n",
    "    \n",
    "    \n",
    "    docx_text_splited = docx_df[\"law_docx_text\"][0].split('\\n')\n",
    "    docx_batch_matrices = create_batch_size_matrices(docx_text_splited, tokenizer)\n",
    "    docx_files_num_of_batches.append(docx_batch_matrices.shape[0])\n",
    "    \n",
    "    docx_df = docx_df[1:]\n",
    "    for _, row in tqdm(docx_df.iterrows(), desc=\"Preparing DOCX to Predict\"):\n",
    "        docx_text = row[\"law_docx_text\"]\n",
    "        docx_text_splited = docx_text.split('\\n')\n",
    "        \n",
    "        docx_batch_matrices_curr = create_batch_size_matrices(docx_text_splited, tokenizer)\n",
    "        \n",
    "        docx_files_num_of_batches.append(docx_batch_matrices_curr.shape[0])\n",
    "        \n",
    "        docx_batch_matrices = np.vstack((docx_batch_matrices, docx_batch_matrices_curr))\n",
    "        \n",
    "    return docx_files_num_of_batches, docx_batch_matrices"
   ]
  },
  {
   "cell_type": "code",
   "execution_count": 91,
   "metadata": {},
   "outputs": [],
   "source": [
    "def create_df_predict_test_docx(docx_df, predicted_docx, docx_files_batches_vec):\n",
    "    \"\"\"\n",
    "    Args:\n",
    "        docx_df - docx data frame, contains all the docx texts.\n",
    "        predicted_docx - model output on the docx text files.\n",
    "        docx_files_batches_vec - list of number of batch sizes for each docx file. \n",
    "    \n",
    "    Return:\n",
    "        docx_and_matrices_df - data frame that contains the law id, the original text of the law and the predicted\n",
    "        matrix from the model.\n",
    "    \"\"\"\n",
    "    docx_and_matrices = []\n",
    "    \n",
    "    for i, row in tqdm(docx_df.iterrows(), desc=\"Creating DOCX df for predict\"):\n",
    "        id_docx = row[\"law_id\"]\n",
    "        text_docx = row[\"law_docx_text\"]\n",
    "        predicted_docx_matrix = predicted_docx[:docx_files_batches_vec[i] * batch_size]\n",
    "                \n",
    "        docx_and_matrices.append({\n",
    "                \"law_id\": id_docx,\n",
    "                \"damaged_text\": text_docx,\n",
    "                \"damaged_words_sen\": predicted_docx_matrix,\n",
    "            })\n",
    "        \n",
    "        predicted_docx = predicted_docx[docx_files_batches_vec[i] * batch_size:]\n",
    "\n",
    "    docx_and_matrices_df = pd.DataFrame(docx_and_matrices, columns=[\"law_id\", \"damaged_text\", \"damaged_words_sen\"])\n",
    "    return docx_and_matrices_df"
   ]
  },
  {
   "cell_type": "markdown",
   "metadata": {},
   "source": [
    "We will predict on a small fraction of the documents, since the predcition time may take a-log time."
   ]
  },
  {
   "cell_type": "code",
   "execution_count": 96,
   "metadata": {},
   "outputs": [
    {
     "name": "stderr",
     "output_type": "stream",
     "text": [
      "Preparing DOCX to Predict: 9it [00:00, 276.59it/s]\n"
     ]
    }
   ],
   "source": [
    "# preparing the docx files for prediction\n",
    "docx_files_batches_vec, docx_batch_matrices = prepare_data_to_predict(law_docx_df_clean[:10])"
   ]
  },
  {
   "cell_type": "code",
   "execution_count": 97,
   "metadata": {},
   "outputs": [],
   "source": [
    "# reshaping the text into sentences\n",
    "X_test_docx = docx_batch_matrices.reshape((-1, sentence_length))"
   ]
  },
  {
   "cell_type": "code",
   "execution_count": 98,
   "metadata": {},
   "outputs": [
    {
     "name": "stderr",
     "output_type": "stream",
     "text": [
      "Creating DOCX df for predict: 10it [00:00, 13315.25it/s]\n"
     ]
    }
   ],
   "source": [
    "# predicting on the docx files\n",
    "preds_docx = model.predict(X_test_docx)\n",
    "# mapping back the predictions to the files\n",
    "docx_and_matrices_df = create_df_predict_test_docx(law_docx_df_clean[:10], preds_docx.round(), docx_files_batches_vec)"
   ]
  },
  {
   "cell_type": "markdown",
   "metadata": {},
   "source": [
    "###### Marking words with error\n",
    "---\n",
    "By now, we have a mapping for each document and what the model have predicted, so the next step is to mark the words which our model considered an error. \n",
    "We will go through each word in a document and if the index of the word in the corresponding predicted matrix is labeld as \"1\" we will mark the word as error using an error tag."
   ]
  },
  {
   "cell_type": "code",
   "execution_count": 107,
   "metadata": {},
   "outputs": [],
   "source": [
    "def mark_word(word):\n",
    "    return f\"<e>{word}<e>\"\n",
    "\n",
    "def get_marked_line(words, damaged_vec):\n",
    "    marked_words = []\n",
    "    \n",
    "    for i, word in enumerate(words):\n",
    "        if i < sentence_length:\n",
    "            marked_word = word if damaged_vec[i] == 0 else mark_word(word)\n",
    "            marked_words.append(marked_word)\n",
    "        else:\n",
    "            marked_words.append(word)\n",
    "    return marked_words\n",
    "\n",
    "def mark_text_with_error_tag(law_text, law_mat):\n",
    "    \"\"\"\n",
    "    Mark a text file with an <e> tag.\n",
    "    \n",
    "    Args:\n",
    "        law_text (String): text that suspected to be containing errors.\n",
    "        law_mat (numpy.array): a matrix that indicates where the errors are in the text.\n",
    "    \n",
    "    Returns:\n",
    "        The text marked with <e> tag where @law_mat suggested.\n",
    "    \"\"\"\n",
    "    law_lines = law_text.split(\"\\n\")\n",
    "    marked_lines = []\n",
    "    for i, line in enumerate(law_lines):\n",
    "        curr_damaged_vec = law_mat[i]\n",
    "        curr_words = line.split()\n",
    "        marked_line = get_marked_line(curr_words, curr_damaged_vec)\n",
    "        marked_line = \" \".join(marked_line)\n",
    "        marked_lines.append(marked_line)\n",
    "    return \"\\n\".join(marked_lines)\n",
    "\n",
    "def mark_texts_with_error_tag(damaged_texts_df):\n",
    "    \"\"\"\n",
    "    Marks all the words a model predicted as damaged with an <error> tag.\n",
    "    \n",
    "    damaged_texts_df (DataFrame): dataframe contaning the docx text \n",
    "    and the places where the model predicted the words are damaged\n",
    "    \"\"\"\n",
    "    marked_texts = []\n",
    "    \n",
    "    for _, row in tqdm(damaged_texts_df.iterrows(), desc=\"Marking Words\"):\n",
    "        law_id = row[\"law_id\"]\n",
    "        law_damaged = row[\"damaged_text\"]\n",
    "        law_damaged_mat = row[\"damaged_words_sen\"]\n",
    "        law_marked = mark_text_with_error_tag(law_damaged, law_damaged_mat)\n",
    "        \n",
    "        marked_texts.append({\n",
    "            \"law_id\": law_id,\n",
    "            \"text\": law_marked,\n",
    "        })\n",
    "    return pd.DataFrame(marked_texts, columns=[\"law_id\", \"text\"])\n",
    "        "
   ]
  },
  {
   "cell_type": "markdown",
   "metadata": {},
   "source": [
    "###### Saving files with error tags\n",
    "---\n",
    "The final steps is to save the text with the error tags into files. We will save them in folder represented by the date and time we envoked the saving function. Each document will be save with it's \"law id\" in a \"txt\" file format."
   ]
  },
  {
   "cell_type": "code",
   "execution_count": 110,
   "metadata": {},
   "outputs": [],
   "source": [
    "def save_text_file(text, path):\n",
    "    \"\"\"\n",
    "    Saves a text file in path\n",
    "    \n",
    "    Args:\n",
    "        text (String): text to be saved.\n",
    "        path (String): where to save the text file.\n",
    "    \"\"\"\n",
    "    os.makedirs(os.path.dirname(path), exist_ok=True)\n",
    "    with open(path, \"w\") as f:\n",
    "        f.write(text)\n",
    "        \n",
    "def save_text_files(texts_df, name=\"\"):\n",
    "    \"\"\"\n",
    "    Saving a dataframe containing text files to a folder.\n",
    "    \n",
    "    Args:\n",
    "        texts_df (DataFrame): dataframe containng text files.\n",
    "    \"\"\"\n",
    "    now_time = datetime.now()\n",
    "    now_str = now_time.strftime(\"%Y_%m_%d_%H_%M\")\n",
    "    base_file_path = f\"./text_files/{name}_{now_str}\"\n",
    "    for _, row in texts_df.iterrows():\n",
    "        law_id = row[\"law_id\"]\n",
    "        law_text = row[\"text\"]\n",
    "        file_path = f'{base_file_path}/{law_id}.txt'\n",
    "        try:\n",
    "            save_text_file(law_text, file_path)\n",
    "        except:\n",
    "            pass"
   ]
  },
  {
   "cell_type": "code",
   "execution_count": 111,
   "metadata": {},
   "outputs": [
    {
     "name": "stderr",
     "output_type": "stream",
     "text": [
      "Marking Words: 10it [00:00, 431.48it/s]\n"
     ]
    }
   ],
   "source": [
    "marked_df = mark_texts_with_error_tag(docx_and_matrices_df)\n",
    "save_text_files(marked_df, name=\"sample_10_laws_marked\")"
   ]
  },
  {
   "cell_type": "markdown",
   "metadata": {},
   "source": [
    "###### Sanity Check\n",
    "---\n",
    "For our last step we will preform a sanity check, we will take few random documents and check how our model performed. The evaluation will be done by us in a non-autometed fashion."
   ]
  },
  {
   "cell_type": "code",
   "execution_count": 119,
   "metadata": {},
   "outputs": [
    {
     "name": "stdout",
     "output_type": "stream",
     "text": [
      "prediction for law_id number: 149828\n",
      "\n",
      "48 ספר החוקים 695 י״ח בניסן התשל״ג 20 . 04 . 1973\n",
      "* נתקבל בכנסת ביום ט׳ בניסן תשל״ג ( 11 באפריל 1973 ) ; הצעת החוק ודברי הסבר פורסמו <e>בה״ח<e> 1040 , <e>תשל׳׳ג<e> ,\n",
      "עמי 151 .\n",
      "1 ס״ח תשי״ט , עמ׳ 152 ; <e>תשכ׳׳א<e> , עמ׳ 34 ; תשכ״ג , עמ׳ 141 ; תשל״ב , עמי 18 .\n",
      "נדפס בדפוס הממשלה , ירושלים\n",
      "חיים בר - לב\n",
      "שר המסחר והתעשיה\n",
      "גולדה מאיר\n",
      "ראש הממשלה\n",
      "שניאור זלמן שזר\n",
      "נשיא המדינה\n",
      "1 . בחוק ההגבלים העסקיים , תשי״ט - 1959 1 , אחרי סעיף 32 יבוא :\n",
      "הוספת סעיף 32א\n",
      "32א . לא יסרב כעל מונופולין להספקה או לרכישה , או סוכנו , לספק או\n",
      "לרכוש מצרך או שירות שלגביו קיים אותו <e>מונופולץ<e> , אלא אם היה\n",
      "הסירוב בהתאם <e>לנוהגי<e> המסחר המקובלים . ״\n",
      "״ איסור סירוב\n",
      "שרירותי\n",
      "חוק ההגבלים העסקיים ( תיקון מס׳ 4 ) , תשל״ג - 1973 <e>*<e>\n"
     ]
    }
   ],
   "source": [
    "law_index = 8\n",
    "print(f'prediction for law_id number: {marked_df[\"law_id\"][law_index]}\\n')\n",
    "print(marked_df[\"text\"][law_index])"
   ]
  },
  {
   "cell_type": "code",
   "execution_count": 120,
   "metadata": {},
   "outputs": [
    {
     "name": "stdout",
     "output_type": "stream",
     "text": [
      "prediction for law_id number: 147135\n",
      "\n",
      "32 ספר החוקים 97 כ״ז באייר התשי״ב 22 . 05 . 1952\n",
      "* נתקבל בכנסת <e>ביוט<e> י״ח באייר תשי״ב ( 18 במאי 1052 ) ; הצעת החוק ודברי הסבר <e>נת6רסטו<e>\n",
      "בהצעות חוק 102 מיום י״ד בשבט תשי״ב ( 10 . 2 . 52 ) , <e>עט׳<e> 108 .\n",
      "1 ספר החוקים 48 מיום <e>כ׳<e> בסיון תש״י ( 18 . 5 . 50 ) עמ׳ 141 .\n",
      "* * נתקבל בכנסת ביום י״ח באייר תשי״ב ( 13 במאי 1052 ) ; הצעת החוק ודברי הסבר נתפרסמו\n",
      "בהצעות חוק 80 מיום י״ח באייר תשי״א ( 24 , 5 , 51 ) <e>/<e> <e>עטי<e> 225 .\n",
      "1 , בכל חוק ובכל מסמך שכתוב בהם ״ בית משפט לאדמירליות ״ קרי : ״ בית משפט\n",
      "לימאות ״ .\n",
      "החלטת שם\n",
      "2 . כל הסמכויות שהיו נתונות לבית המשפט העליון כבית משפט לאדמירליות ערב\n",
      "תחילת תקפו של חוק זה , יהיו מסורות מיום תחילת תקפו של חוק זה לבית המשפט המחוזי\n",
      "בחיפה . ששימש מאותו יום כבית המשפט לימאות .\n",
      "העברת\n",
      "סמכויות\n",
      "3 . ( א ) בית המשפט לימאות ישב בדין בחיפה , או בכל מקום אחר שייקבע על ידי בית\n",
      "המשפט לצורך משפט מסויים , או לצורך שלב משלבי הדין במשפט מסויים .\n",
      "( ב ) בית המשפט לימאות ידון בשופט <e>אחה<e> שיהיה רשאי להזמין יועץ או יועצים\n",
      "מתוך חבר אנשים שיתמנו על ידי שר המשפטים . יועצים אלה ישתתפו בדיון אך לא במתן\n",
      "פסק הדין ,\n",
      "מקום מושבו של\n",
      "בית המשפט\n",
      "לימאות והרכבו\n",
      "4 . סדרי הדין שחלו בבית המשפט העליון כבית משפט לאדמירליות ערב תחילת תקפו\n",
      "של חוק זה׳ יחולו בשינויים המחוייבים לפי הענין בבית המשפט לימאות , במידה שלא ישונו\n",
      "בתקנות שיתקין שר המשפטים לפי סעיף 8 .\n",
      "סדרי הדין\n",
      "5 . כל רשם של בית משפט מחוזי ישמש רשם של בית המשפט לימאות .\n",
      "רשמים\n",
      "חוק בית המשפט לימאות , תשי״ב - 1952 <e>*<e> *\n",
      "233 ספר החוקים 97 כ״ז באייר התשי״ב 22 . 05 . 1952\n",
      "יוסף שפרינצק\n",
      "יושב ראש הכנסת\n",
      "ממלא מקום נשיא המדינה\n",
      "דב יוסף\n",
      "של המשפטים\n",
      "דוד בן - גוריון\n",
      "ראש הממשלה\n",
      "ערעור\n",
      "6 . ( א ) החלטה של בית המשפט לימאות ניתנת לערעור לפני בית המשפט <e>העליתי<e>\n",
      "( ב ) בית המשפט העליון הדן בערעור לפי סעיף זה , יהיו לו נוסף על סמכויותיו\n",
      "כבית משפט לערעורים כל הסמכויות הנתונות לבית המשפט לימאות .\n",
      "הוראות מעבר\n",
      "7 . היה ענין תלוי <e>ועומד׳<e> ערב תחילת תקפו של חוק זה , בבית המשפט העליון כבית\n",
      "משפט <e>לאדמירליות׳<e> ימשיך בית המשפט העליון לדון בו כאילו חוק זה לא נכנס לתקפו .\n",
      "ביצוע ותקנות\n",
      "8 . שר המשפטים ממונה על ביצוע חוק זה והוא רשאי להתקין תקנות בכל ענין הנוגע\n",
      "<e>לביצועו׳<e> ובכלל זה תקנות הקובעות את סדרי הדין בבית המשפט לימאות ובערעור על\n",
      "החלטותיו ואת אגרות בית המשפט .\n",
      "234 ספר החוקים 97 כ״ז באייר התשי״ב 22 . 05 . 1952\n"
     ]
    }
   ],
   "source": [
    "law_index = 9\n",
    "print(f'prediction for law_id number: {marked_df[\"law_id\"][law_index]}\\n')\n",
    "print(marked_df[\"text\"][law_index])"
   ]
  },
  {
   "cell_type": "markdown",
   "metadata": {},
   "source": [
    "We can that our model perform pretty well. It's not drastically predicting any words but rather make a smart calculations on which word to predict.<br>\n",
    "\n",
    "For example: in law number 149828 the word \"מונופולין\" replaced to \"מונופוליץ\" which is an error our model predicted correcly. While there are some false-positives we can see how well this model is performing in contrast to the other ones."
   ]
  },
  {
   "cell_type": "markdown",
   "metadata": {},
   "source": [
    "### Conclusions and Suggestions\n",
    "---\n",
    "We were able to create a model that can detect error in documents that been through OCR. We saw the importance of the preprocessing steps and how hard to tidious is to come up with the right model. We made pretty insightful analyzations and deduced the best way in order to proceed on each step.<br><br>\n",
    "\n",
    "While we consider this project as a sucees there are a lot of more things to accomplish and steps to make the predictions better:\n",
    "\n",
    "* **Increasing Our dictionary** - In order for the model to make less FP erros we have to supply him with more words. The tokenizer then can give those words a number and the network can learn the connection between the words.\n",
    "\n",
    "* **Increasing Sentence/Amount of Sentences Legth** - Due to memory and time constraints we had to settle with rather small parameters comparing to the max size. We can increase these parameters, this will give our network more information we might have cropped earlier.\n",
    "\n",
    "* **Trying another weighting measures** - We can try to give the loss function different weights and explore how the predictions has changed comparing to the previous ones.\n",
    "\n",
    "* **Create a Deeper Model** - We can try to expand our network and add it more complexity, this will allow it to learn even better and reach better results.\n",
    "\n",
    "* **Use Pretrained Model** - We can \"reinvent the wheel\" and use some pretrained models with great of amount of complexity (BERT for example) and fine tune it to our problem."
   ]
  }
 ],
 "metadata": {
  "kernelspec": {
   "display_name": "py36",
   "language": "python",
   "name": "py36"
  },
  "language_info": {
   "codemirror_mode": {
    "name": "ipython",
    "version": 3
   },
   "file_extension": ".py",
   "mimetype": "text/x-python",
   "name": "python",
   "nbconvert_exporter": "python",
   "pygments_lexer": "ipython3",
   "version": "3.6.12"
  }
 },
 "nbformat": 4,
 "nbformat_minor": 4
}